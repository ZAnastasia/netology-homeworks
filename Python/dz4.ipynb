{
 "cells": [
  {
   "cell_type": "markdown",
   "metadata": {},
   "source": [
    "Задание 1"
   ]
  },
  {
   "cell_type": "code",
   "execution_count": 11,
   "metadata": {},
   "outputs": [],
   "source": [
    "#перечень всех документов\n",
    "documents = [\n",
    " {'type': 'passport', 'number': '2207 876234', 'name': 'Василий Гупкин'},\n",
    " {'type': 'invoice', 'number': '11-2', 'name': 'Геннадий Покемонов'},\n",
    " {'type': 'insurance', 'number': '10006', 'name': 'Аристарх Павлов'}\n",
    "]\n",
    "#перечень полок, на которых хранятся документы (если документ есть в documents, то он обязательно должен быть и в directories)\n",
    "directories = {\n",
    " '1': ['2207 876234', '11-2'],\n",
    " '2': ['10006'],\n",
    " '3': []\n",
    "} "
   ]
  },
  {
   "cell_type": "code",
   "execution_count": 3,
   "metadata": {},
   "outputs": [],
   "source": [
    "def get_directory_number_by_document_number(document_number):\n",
    "    for key, value  in directories.items():\n",
    "        if document_number in value:\n",
    "            return key\n",
    "    return  \n",
    "get_directory_number_by_document_number(10006)"
   ]
  },
  {
   "cell_type": "code",
   "execution_count": 4,
   "metadata": {},
   "outputs": [
    {
     "name": "stdout",
     "output_type": "stream",
     "text": [
      "Введите номер документа:11-2\n",
      "Документ хранится на полке: 1\n"
     ]
    }
   ],
   "source": [
    "def get_directory_id_command_handler():\n",
    "    \"\"\"\n",
    "    \"\"\"\n",
    "    document_number=input('Введите номер документа:')\n",
    "    directory_number=get_directory_number_by_document_number(document_number)\n",
    "    if directory_number != None:\n",
    "        print('Документ хранится на полке:',directory_number)\n",
    "    else:\n",
    "        print('Документ не найден в базе')\n",
    "get_directory_id_command_handler()"
   ]
  },
  {
   "cell_type": "code",
   "execution_count": 5,
   "metadata": {},
   "outputs": [
    {
     "name": "stdout",
     "output_type": "stream",
     "text": [
      "Введите номер документа: 10006\n"
     ]
    },
    {
     "data": {
      "text/plain": [
       "2"
      ]
     },
     "execution_count": 5,
     "metadata": {},
     "output_type": "execute_result"
    }
   ],
   "source": [
    "def get_document_index():\n",
    "    \"\"\"\n",
    "    Подсчет индекса вхождения с проверкой принадлежности номеру документа 'number':\n",
    "    1. Элемент принадлежит 'number'\n",
    "    2. Считаем индекс этого элемента i\n",
    "    \n",
    "    Возвращает i или печатает 'Документ не найден в базе'. Пример\n",
    "    get_document_index()\n",
    "    Введите номер документа: 2207 876234\n",
    "    0\n",
    "    \n",
    "    get_document_index()\n",
    "    Введите номер документа: 121\n",
    "    Документ не найден в базе \n",
    "    \n",
    "    fget_document_index()\n",
    "    Введите номер документа: a\n",
    "    Документ не найден в базе \n",
    "    \"\"\"\n",
    "    inpfn=input('Введите номер документа: ')\n",
    "    i=0\n",
    "    for a in documents:\n",
    "        for key, value in a.items():\n",
    "            if key == 'number':\n",
    "                if value == inpfn:\n",
    "                    return i\n",
    "                else: i +=1\n",
    "    print('Документ не найден в базе')                \n",
    "    return \n",
    "get_document_index()"
   ]
  },
  {
   "cell_type": "code",
   "execution_count": 6,
   "metadata": {},
   "outputs": [
    {
     "name": "stdout",
     "output_type": "stream",
     "text": [
      "Введите номер документа: 10006\n",
      "Владелец документа: Аристарх Павлов\n"
     ]
    }
   ],
   "source": [
    "def get_name_command_handler():\n",
    "    document_index = get_document_index()\n",
    "    if document_index !=None:\n",
    "        for key,value in documents[document_index].items():\n",
    "            if key == 'name':\n",
    "                print('Владелец документа:',value)\n",
    "get_name_command_handler()               "
   ]
  },
  {
   "cell_type": "code",
   "execution_count": 7,
   "metadata": {},
   "outputs": [
    {
     "name": "stdout",
     "output_type": "stream",
     "text": [
      "Введите номер полки:10\n",
      "Полка добавлена. Текущий перечень полок: 1, 2, 3, 10\n"
     ]
    }
   ],
   "source": [
    "def add_directory_command_handler():\n",
    "    \"\"\"\n",
    "    \"\"\"\n",
    "    add_new_directory=input('Введите номер полки:')\n",
    "    if add_new_directory in directories.keys():\n",
    "        print('Такая полка уже существует. Текущий перечень полок:', ', '.join(list(directories.keys())))\n",
    "    else:\n",
    "        directories[add_new_directory] = []\n",
    "        print('Полка добавлена. Текущий перечень полок:', ', '.join(list(directories.keys())))\n",
    "add_directory_command_handler()"
   ]
  },
  {
   "cell_type": "code",
   "execution_count": 8,
   "metadata": {},
   "outputs": [
    {
     "name": "stdout",
     "output_type": "stream",
     "text": [
      "№: 2207 876234, тип: passport, владелец: Василий Гупкин, полка хранения: 1\n",
      "№: 11-2, тип: invoice, владелец: Геннадий Покемонов, полка хранения: 1\n",
      "№: 10006, тип: insurance, владелец: Аристарх Павлов, полка хранения: 2\n"
     ]
    }
   ],
   "source": [
    "def print_documents_info_command_handler():\n",
    "    for document in documents:\n",
    "        print(f\"№: {document['number']}, тип: {document['type']}, владелец: {document['name']}, полка хранения: {get_directory_number_by_document_number(document['number'])}\")\n",
    "print_documents_info_command_handler()"
   ]
  },
  {
   "cell_type": "code",
   "execution_count": 9,
   "metadata": {},
   "outputs": [
    {
     "name": "stdout",
     "output_type": "stream",
     "text": [
      "Введите номер полки:4\n",
      "Такой полки не существует. Текущий перечень полок: 1, 2, 3, 10\n"
     ]
    }
   ],
   "source": [
    "def delete_directory_command_handler():\n",
    "    \"\"\"\n",
    "    \"\"\"\n",
    "    directory_number=input('Введите номер полки:')\n",
    "    if directory_number in directories.keys():\n",
    "        if len(directories[directory_number]) == 0:\n",
    "            del(directories[directory_number])\n",
    "            print('Полка удалена. Текущий перечень полок:',  ', '.join(list(directories.keys())))\n",
    "        else:\n",
    "            print('На полке есть документа, удалите их перед удалением полки. Текущий перечень полок:',  ', '.join(list(directories.keys())) )\n",
    "    else: \n",
    "        print('Такой полки не существует. Текущий перечень полок:', ', '.join(list(directories.keys())))\n",
    "delete_directory_command_handler()           "
   ]
  },
  {
   "cell_type": "code",
   "execution_count": 12,
   "metadata": {},
   "outputs": [
    {
     "name": "stdout",
     "output_type": "stream",
     "text": [
      "Введите команду: p\n",
      "Введите номер документа: 10006\n",
      "Владелец документа: Аристарх Павлов\n",
      "Введите команду: p\n",
      "Введите номер документа: 13224\n",
      "Документ не найден в базе\n",
      "Введите команду: s\n",
      "Введите номер документа:10006\n",
      "Документ хранится на полке: 2\n",
      "Введите команду: s\n",
      "Введите номер документа:2134\n",
      "Документ не найден в базе\n",
      "Введите команду: l\n",
      "№: 2207 876234, тип: passport, владелец: Василий Гупкин, полка хранения: 1\n",
      "№: 11-2, тип: invoice, владелец: Геннадий Покемонов, полка хранения: 1\n",
      "№: 10006, тип: insurance, владелец: Аристарх Павлов, полка хранения: 2\n",
      "Введите команду: ads\n",
      "Введите номер полки:10\n",
      "Полка добавлена. Текущий перечень полок: 1, 2, 3, 10\n",
      "Введите команду: ads\n",
      "Введите номер полки:1\n",
      "Такая полка уже существует. Текущий перечень полок: 1, 2, 3, 10\n",
      "Введите команду: ds\n",
      "Введите номер полки:3\n",
      "Полка удалена. Текущий перечень полок: 1, 2, 10\n",
      "Введите команду: ds\n",
      "Введите номер полки:1\n",
      "На полке есть документа, удалите их перед удалением полки. Текущий перечень полок: 1, 2, 10\n",
      "Введите команду: ds\n",
      "Введите номер полки:4\n",
      "Такой полки не существует. Текущий перечень полок: 1, 2, 10\n",
      "Введите команду: q\n"
     ]
    }
   ],
   "source": [
    "#функция вызова команд\n",
    "def command_handler():\n",
    "    \"\"\"\n",
    "    \"\"\"\n",
    "    next_command=input('Введите команду: ')\n",
    "    while next_command != 'q':\n",
    "        if next_command == 'p':\n",
    "            get_name_command_handler()\n",
    "        elif next_command == 's':\n",
    "            get_directory_id_command_handler()\n",
    "        elif next_command == 'l':\n",
    "            print_documents_info_command_handler()\n",
    "        elif next_command == 'ads':\n",
    "            add_directory_command_handler()\n",
    "        elif next_command == 'ds':\n",
    "            delete_directory_command_handler()\n",
    "        next_command=input('Введите команду: ')  \n",
    "    \n",
    "command_handler()"
   ]
  }
 ],
 "metadata": {
  "kernelspec": {
   "display_name": "Python 3",
   "language": "python",
   "name": "python3"
  },
  "language_info": {
   "codemirror_mode": {
    "name": "ipython",
    "version": 3
   },
   "file_extension": ".py",
   "mimetype": "text/x-python",
   "name": "python",
   "nbconvert_exporter": "python",
   "pygments_lexer": "ipython3",
   "version": "3.8.5"
  }
 },
 "nbformat": 4,
 "nbformat_minor": 4
}
