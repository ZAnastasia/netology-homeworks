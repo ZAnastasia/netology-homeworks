{
 "cells": [
  {
   "cell_type": "markdown",
   "metadata": {},
   "source": [
    "Будем осуществлять работу с непростым набором данных о состоянии здоровья лошадей, испытывающих кишечные колики. Цель – максимально корректно заполнить пропуски.\n",
    "\n",
    "Задание 1. \n",
    "\n",
    "Загрузка данных\n",
    "Изучить представленный набор данных на основе описания его столбцов, загрузить его и оставить 8 столбцов для дальнейшего изучения: surgery?, Age, rectal temperature, pulse, respiratory rate, temperature of extremities, pain, outcome.\n",
    "\n",
    "Задание 2. \n",
    "\n",
    "Первичное изучение данных\n",
    "Проанализировать значения по столбцам, рассчитать базовые статистики, найти выбросы.\n",
    "\n",
    "Задание 3. \n",
    "\n",
    "Работа с пропусками\n",
    "Рассчитать количество пропусков для всех выбранных столбцов. Принять и обосновать решение о методе заполнения пропусков по каждому столбцу на основе рассчитанных статистик и возможной взаимосвязи значений в них. Сформировать датафрейм, в котором пропуски будут отсутствовать."
   ]
  },
  {
   "cell_type": "markdown",
   "metadata": {},
   "source": [
    "№1"
   ]
  },
  {
   "cell_type": "code",
   "execution_count": 1,
   "metadata": {},
   "outputs": [],
   "source": [
    "import pandas as pd\n",
    "import numpy as np"
   ]
  },
  {
   "cell_type": "code",
   "execution_count": 143,
   "metadata": {
    "scrolled": true
   },
   "outputs": [
    {
     "data": {
      "text/html": [
       "<div>\n",
       "<style scoped>\n",
       "    .dataframe tbody tr th:only-of-type {\n",
       "        vertical-align: middle;\n",
       "    }\n",
       "\n",
       "    .dataframe tbody tr th {\n",
       "        vertical-align: top;\n",
       "    }\n",
       "\n",
       "    .dataframe thead th {\n",
       "        text-align: right;\n",
       "    }\n",
       "</style>\n",
       "<table border=\"1\" class=\"dataframe\">\n",
       "  <thead>\n",
       "    <tr style=\"text-align: right;\">\n",
       "      <th></th>\n",
       "      <th>2</th>\n",
       "      <th>1</th>\n",
       "      <th>530101</th>\n",
       "      <th>38.50</th>\n",
       "      <th>66</th>\n",
       "      <th>28</th>\n",
       "      <th>3</th>\n",
       "      <th>3.1</th>\n",
       "      <th>?</th>\n",
       "      <th>2.1</th>\n",
       "      <th>...</th>\n",
       "      <th>45.00</th>\n",
       "      <th>8.40</th>\n",
       "      <th>?.4</th>\n",
       "      <th>?.5</th>\n",
       "      <th>2.2</th>\n",
       "      <th>2.3</th>\n",
       "      <th>11300</th>\n",
       "      <th>00000</th>\n",
       "      <th>00000.1</th>\n",
       "      <th>2.4</th>\n",
       "    </tr>\n",
       "  </thead>\n",
       "  <tbody>\n",
       "    <tr>\n",
       "      <th>0</th>\n",
       "      <td>1</td>\n",
       "      <td>1</td>\n",
       "      <td>534817</td>\n",
       "      <td>39.2</td>\n",
       "      <td>88</td>\n",
       "      <td>20</td>\n",
       "      <td>?</td>\n",
       "      <td>?</td>\n",
       "      <td>4</td>\n",
       "      <td>1</td>\n",
       "      <td>...</td>\n",
       "      <td>50</td>\n",
       "      <td>85</td>\n",
       "      <td>2</td>\n",
       "      <td>2</td>\n",
       "      <td>3</td>\n",
       "      <td>2</td>\n",
       "      <td>2208</td>\n",
       "      <td>0</td>\n",
       "      <td>0</td>\n",
       "      <td>2</td>\n",
       "    </tr>\n",
       "    <tr>\n",
       "      <th>1</th>\n",
       "      <td>2</td>\n",
       "      <td>1</td>\n",
       "      <td>530334</td>\n",
       "      <td>38.30</td>\n",
       "      <td>40</td>\n",
       "      <td>24</td>\n",
       "      <td>1</td>\n",
       "      <td>1</td>\n",
       "      <td>3</td>\n",
       "      <td>1</td>\n",
       "      <td>...</td>\n",
       "      <td>33.00</td>\n",
       "      <td>6.70</td>\n",
       "      <td>?</td>\n",
       "      <td>?</td>\n",
       "      <td>1</td>\n",
       "      <td>2</td>\n",
       "      <td>0</td>\n",
       "      <td>0</td>\n",
       "      <td>0</td>\n",
       "      <td>1</td>\n",
       "    </tr>\n",
       "    <tr>\n",
       "      <th>2</th>\n",
       "      <td>1</td>\n",
       "      <td>9</td>\n",
       "      <td>5290409</td>\n",
       "      <td>39.10</td>\n",
       "      <td>164</td>\n",
       "      <td>84</td>\n",
       "      <td>4</td>\n",
       "      <td>1</td>\n",
       "      <td>6</td>\n",
       "      <td>2</td>\n",
       "      <td>...</td>\n",
       "      <td>48.00</td>\n",
       "      <td>7.20</td>\n",
       "      <td>3</td>\n",
       "      <td>5.30</td>\n",
       "      <td>2</td>\n",
       "      <td>1</td>\n",
       "      <td>2208</td>\n",
       "      <td>0</td>\n",
       "      <td>0</td>\n",
       "      <td>1</td>\n",
       "    </tr>\n",
       "    <tr>\n",
       "      <th>3</th>\n",
       "      <td>2</td>\n",
       "      <td>1</td>\n",
       "      <td>530255</td>\n",
       "      <td>37.30</td>\n",
       "      <td>104</td>\n",
       "      <td>35</td>\n",
       "      <td>?</td>\n",
       "      <td>?</td>\n",
       "      <td>6</td>\n",
       "      <td>2</td>\n",
       "      <td>...</td>\n",
       "      <td>74.00</td>\n",
       "      <td>7.40</td>\n",
       "      <td>?</td>\n",
       "      <td>?</td>\n",
       "      <td>2</td>\n",
       "      <td>2</td>\n",
       "      <td>4300</td>\n",
       "      <td>0</td>\n",
       "      <td>0</td>\n",
       "      <td>2</td>\n",
       "    </tr>\n",
       "    <tr>\n",
       "      <th>4</th>\n",
       "      <td>2</td>\n",
       "      <td>1</td>\n",
       "      <td>528355</td>\n",
       "      <td>?</td>\n",
       "      <td>?</td>\n",
       "      <td>?</td>\n",
       "      <td>2</td>\n",
       "      <td>1</td>\n",
       "      <td>3</td>\n",
       "      <td>1</td>\n",
       "      <td>...</td>\n",
       "      <td>?</td>\n",
       "      <td>?</td>\n",
       "      <td>?</td>\n",
       "      <td>?</td>\n",
       "      <td>1</td>\n",
       "      <td>2</td>\n",
       "      <td>0</td>\n",
       "      <td>0</td>\n",
       "      <td>0</td>\n",
       "      <td>2</td>\n",
       "    </tr>\n",
       "  </tbody>\n",
       "</table>\n",
       "<p>5 rows × 28 columns</p>\n",
       "</div>"
      ],
      "text/plain": [
       "   2  1   530101  38.50   66  28  3 3.1  ? 2.1  ...  45.00  8.40 ?.4   ?.5  \\\n",
       "0  1  1   534817   39.2   88  20  ?   ?  4   1  ...     50    85   2     2   \n",
       "1  2  1   530334  38.30   40  24  1   1  3   1  ...  33.00  6.70   ?     ?   \n",
       "2  1  9  5290409  39.10  164  84  4   1  6   2  ...  48.00  7.20   3  5.30   \n",
       "3  2  1   530255  37.30  104  35  ?   ?  6   2  ...  74.00  7.40   ?     ?   \n",
       "4  2  1   528355      ?    ?   ?  2   1  3   1  ...      ?     ?   ?     ?   \n",
       "\n",
       "  2.2 2.3 11300 00000 00000.1 2.4  \n",
       "0   3   2  2208     0       0   2  \n",
       "1   1   2     0     0       0   1  \n",
       "2   2   1  2208     0       0   1  \n",
       "3   2   2  4300     0       0   2  \n",
       "4   1   2     0     0       0   2  \n",
       "\n",
       "[5 rows x 28 columns]"
      ]
     },
     "execution_count": 143,
     "metadata": {},
     "output_type": "execute_result"
    }
   ],
   "source": [
    "df = pd.read_csv('part education/практика_и_дз/horse_data.csv')\n",
    "\n",
    "# какие типы признаков в нашем датафрейме?\n",
    "df.head()"
   ]
  },
  {
   "cell_type": "code",
   "execution_count": 144,
   "metadata": {},
   "outputs": [
    {
     "data": {
      "text/html": [
       "<div>\n",
       "<style scoped>\n",
       "    .dataframe tbody tr th:only-of-type {\n",
       "        vertical-align: middle;\n",
       "    }\n",
       "\n",
       "    .dataframe tbody tr th {\n",
       "        vertical-align: top;\n",
       "    }\n",
       "\n",
       "    .dataframe thead th {\n",
       "        text-align: right;\n",
       "    }\n",
       "</style>\n",
       "<table border=\"1\" class=\"dataframe\">\n",
       "  <thead>\n",
       "    <tr style=\"text-align: right;\">\n",
       "      <th></th>\n",
       "      <th>surgery?</th>\n",
       "      <th>Age</th>\n",
       "      <th>Hospital_Number</th>\n",
       "      <th>rectal_temperature</th>\n",
       "      <th>pulse</th>\n",
       "      <th>respiratory_rate</th>\n",
       "      <th>temperature_of_extremities</th>\n",
       "      <th>peripheral_pulse</th>\n",
       "      <th>mucous_membranes</th>\n",
       "      <th>capillary_refill_time</th>\n",
       "      <th>...</th>\n",
       "      <th>packed_cell_volume</th>\n",
       "      <th>total_protein</th>\n",
       "      <th>abdominocentesis_appearance</th>\n",
       "      <th>abdomcentesis_total_protein</th>\n",
       "      <th>outcome</th>\n",
       "      <th>surgical_lesion?</th>\n",
       "      <th>first_number_is_site_of_lesion</th>\n",
       "      <th>second_number_is_type</th>\n",
       "      <th>third_number_is_subtype</th>\n",
       "      <th>cp_data</th>\n",
       "    </tr>\n",
       "  </thead>\n",
       "  <tbody>\n",
       "    <tr>\n",
       "      <th>0</th>\n",
       "      <td>1.0</td>\n",
       "      <td>1.0</td>\n",
       "      <td>534817.0</td>\n",
       "      <td>39.2</td>\n",
       "      <td>88.0</td>\n",
       "      <td>20.0</td>\n",
       "      <td>NaN</td>\n",
       "      <td>NaN</td>\n",
       "      <td>4.0</td>\n",
       "      <td>1.0</td>\n",
       "      <td>...</td>\n",
       "      <td>50.0</td>\n",
       "      <td>85.0</td>\n",
       "      <td>2.0</td>\n",
       "      <td>2.0</td>\n",
       "      <td>3.0</td>\n",
       "      <td>2.0</td>\n",
       "      <td>2208.0</td>\n",
       "      <td>0.0</td>\n",
       "      <td>0.0</td>\n",
       "      <td>2.0</td>\n",
       "    </tr>\n",
       "    <tr>\n",
       "      <th>1</th>\n",
       "      <td>2.0</td>\n",
       "      <td>1.0</td>\n",
       "      <td>530334.0</td>\n",
       "      <td>38.3</td>\n",
       "      <td>40.0</td>\n",
       "      <td>24.0</td>\n",
       "      <td>1.0</td>\n",
       "      <td>1.0</td>\n",
       "      <td>3.0</td>\n",
       "      <td>1.0</td>\n",
       "      <td>...</td>\n",
       "      <td>33.0</td>\n",
       "      <td>6.7</td>\n",
       "      <td>NaN</td>\n",
       "      <td>NaN</td>\n",
       "      <td>1.0</td>\n",
       "      <td>2.0</td>\n",
       "      <td>0.0</td>\n",
       "      <td>0.0</td>\n",
       "      <td>0.0</td>\n",
       "      <td>1.0</td>\n",
       "    </tr>\n",
       "    <tr>\n",
       "      <th>2</th>\n",
       "      <td>1.0</td>\n",
       "      <td>9.0</td>\n",
       "      <td>5290409.0</td>\n",
       "      <td>39.1</td>\n",
       "      <td>164.0</td>\n",
       "      <td>84.0</td>\n",
       "      <td>4.0</td>\n",
       "      <td>1.0</td>\n",
       "      <td>6.0</td>\n",
       "      <td>2.0</td>\n",
       "      <td>...</td>\n",
       "      <td>48.0</td>\n",
       "      <td>7.2</td>\n",
       "      <td>3.0</td>\n",
       "      <td>5.3</td>\n",
       "      <td>2.0</td>\n",
       "      <td>1.0</td>\n",
       "      <td>2208.0</td>\n",
       "      <td>0.0</td>\n",
       "      <td>0.0</td>\n",
       "      <td>1.0</td>\n",
       "    </tr>\n",
       "    <tr>\n",
       "      <th>3</th>\n",
       "      <td>2.0</td>\n",
       "      <td>1.0</td>\n",
       "      <td>530255.0</td>\n",
       "      <td>37.3</td>\n",
       "      <td>104.0</td>\n",
       "      <td>35.0</td>\n",
       "      <td>NaN</td>\n",
       "      <td>NaN</td>\n",
       "      <td>6.0</td>\n",
       "      <td>2.0</td>\n",
       "      <td>...</td>\n",
       "      <td>74.0</td>\n",
       "      <td>7.4</td>\n",
       "      <td>NaN</td>\n",
       "      <td>NaN</td>\n",
       "      <td>2.0</td>\n",
       "      <td>2.0</td>\n",
       "      <td>4300.0</td>\n",
       "      <td>0.0</td>\n",
       "      <td>0.0</td>\n",
       "      <td>2.0</td>\n",
       "    </tr>\n",
       "    <tr>\n",
       "      <th>4</th>\n",
       "      <td>2.0</td>\n",
       "      <td>1.0</td>\n",
       "      <td>528355.0</td>\n",
       "      <td>NaN</td>\n",
       "      <td>NaN</td>\n",
       "      <td>NaN</td>\n",
       "      <td>2.0</td>\n",
       "      <td>1.0</td>\n",
       "      <td>3.0</td>\n",
       "      <td>1.0</td>\n",
       "      <td>...</td>\n",
       "      <td>NaN</td>\n",
       "      <td>NaN</td>\n",
       "      <td>NaN</td>\n",
       "      <td>NaN</td>\n",
       "      <td>1.0</td>\n",
       "      <td>2.0</td>\n",
       "      <td>0.0</td>\n",
       "      <td>0.0</td>\n",
       "      <td>0.0</td>\n",
       "      <td>2.0</td>\n",
       "    </tr>\n",
       "  </tbody>\n",
       "</table>\n",
       "<p>5 rows × 28 columns</p>\n",
       "</div>"
      ],
      "text/plain": [
       "   surgery?  Age  Hospital_Number  rectal_temperature  pulse  \\\n",
       "0       1.0  1.0         534817.0                39.2   88.0   \n",
       "1       2.0  1.0         530334.0                38.3   40.0   \n",
       "2       1.0  9.0        5290409.0                39.1  164.0   \n",
       "3       2.0  1.0         530255.0                37.3  104.0   \n",
       "4       2.0  1.0         528355.0                 NaN    NaN   \n",
       "\n",
       "   respiratory_rate  temperature_of_extremities  peripheral_pulse  \\\n",
       "0              20.0                         NaN               NaN   \n",
       "1              24.0                         1.0               1.0   \n",
       "2              84.0                         4.0               1.0   \n",
       "3              35.0                         NaN               NaN   \n",
       "4               NaN                         2.0               1.0   \n",
       "\n",
       "   mucous_membranes  capillary_refill_time  ...  packed_cell_volume  \\\n",
       "0               4.0                    1.0  ...                50.0   \n",
       "1               3.0                    1.0  ...                33.0   \n",
       "2               6.0                    2.0  ...                48.0   \n",
       "3               6.0                    2.0  ...                74.0   \n",
       "4               3.0                    1.0  ...                 NaN   \n",
       "\n",
       "   total_protein  abdominocentesis_appearance  abdomcentesis_total_protein  \\\n",
       "0           85.0                          2.0                          2.0   \n",
       "1            6.7                          NaN                          NaN   \n",
       "2            7.2                          3.0                          5.3   \n",
       "3            7.4                          NaN                          NaN   \n",
       "4            NaN                          NaN                          NaN   \n",
       "\n",
       "   outcome  surgical_lesion?  first_number_is_site_of_lesion  \\\n",
       "0      3.0               2.0                          2208.0   \n",
       "1      1.0               2.0                             0.0   \n",
       "2      2.0               1.0                          2208.0   \n",
       "3      2.0               2.0                          4300.0   \n",
       "4      1.0               2.0                             0.0   \n",
       "\n",
       "   second_number_is_type  third_number_is_subtype  cp_data  \n",
       "0                    0.0                      0.0      2.0  \n",
       "1                    0.0                      0.0      1.0  \n",
       "2                    0.0                      0.0      1.0  \n",
       "3                    0.0                      0.0      2.0  \n",
       "4                    0.0                      0.0      2.0  \n",
       "\n",
       "[5 rows x 28 columns]"
      ]
     },
     "execution_count": 144,
     "metadata": {},
     "output_type": "execute_result"
    }
   ],
   "source": [
    "#добавляем заголовки в соответвии с описанием\n",
    "Cov = pd.read_csv('part education/практика_и_дз/horse_data.csv', na_values=['?'])\n",
    "Frame=pd.DataFrame(Cov.values, columns = ['surgery?', 'Age', 'Hospital_Number', 'rectal_temperature', 'pulse', 'respiratory_rate', 'temperature_of_extremities', 'peripheral_pulse', 'mucous_membranes', 'capillary_refill_time', 'pain', 'peristalsis', 'abdominal_distension', 'nasogastric_tube', 'nasogastric_reflux', 'nasogastric_reflux_PH', 'rectal_examination-feces', 'abdomen', 'packed_cell_volume', 'total_protein', 'abdominocentesis_appearance', 'abdomcentesis_total_protein', 'outcome', 'surgical_lesion?', 'first_number_is_site_of_lesion', 'second_number_is_type', 'third_number_is_subtype', 'cp_data'])\n",
    "Frame.head()"
   ]
  },
  {
   "cell_type": "code",
   "execution_count": 145,
   "metadata": {},
   "outputs": [
    {
     "data": {
      "text/html": [
       "<div>\n",
       "<style scoped>\n",
       "    .dataframe tbody tr th:only-of-type {\n",
       "        vertical-align: middle;\n",
       "    }\n",
       "\n",
       "    .dataframe tbody tr th {\n",
       "        vertical-align: top;\n",
       "    }\n",
       "\n",
       "    .dataframe thead th {\n",
       "        text-align: right;\n",
       "    }\n",
       "</style>\n",
       "<table border=\"1\" class=\"dataframe\">\n",
       "  <thead>\n",
       "    <tr style=\"text-align: right;\">\n",
       "      <th></th>\n",
       "      <th>surgery?</th>\n",
       "      <th>Age</th>\n",
       "      <th>rectal_temperature</th>\n",
       "      <th>pulse</th>\n",
       "      <th>respiratory_rate</th>\n",
       "      <th>temperature_of_extremities</th>\n",
       "      <th>pain</th>\n",
       "      <th>outcome</th>\n",
       "    </tr>\n",
       "  </thead>\n",
       "  <tbody>\n",
       "    <tr>\n",
       "      <th>0</th>\n",
       "      <td>1.0</td>\n",
       "      <td>1.0</td>\n",
       "      <td>39.2</td>\n",
       "      <td>88.0</td>\n",
       "      <td>20.0</td>\n",
       "      <td>NaN</td>\n",
       "      <td>3.0</td>\n",
       "      <td>3.0</td>\n",
       "    </tr>\n",
       "    <tr>\n",
       "      <th>1</th>\n",
       "      <td>2.0</td>\n",
       "      <td>1.0</td>\n",
       "      <td>38.3</td>\n",
       "      <td>40.0</td>\n",
       "      <td>24.0</td>\n",
       "      <td>1.0</td>\n",
       "      <td>3.0</td>\n",
       "      <td>1.0</td>\n",
       "    </tr>\n",
       "    <tr>\n",
       "      <th>2</th>\n",
       "      <td>1.0</td>\n",
       "      <td>9.0</td>\n",
       "      <td>39.1</td>\n",
       "      <td>164.0</td>\n",
       "      <td>84.0</td>\n",
       "      <td>4.0</td>\n",
       "      <td>2.0</td>\n",
       "      <td>2.0</td>\n",
       "    </tr>\n",
       "    <tr>\n",
       "      <th>3</th>\n",
       "      <td>2.0</td>\n",
       "      <td>1.0</td>\n",
       "      <td>37.3</td>\n",
       "      <td>104.0</td>\n",
       "      <td>35.0</td>\n",
       "      <td>NaN</td>\n",
       "      <td>NaN</td>\n",
       "      <td>2.0</td>\n",
       "    </tr>\n",
       "    <tr>\n",
       "      <th>4</th>\n",
       "      <td>2.0</td>\n",
       "      <td>1.0</td>\n",
       "      <td>NaN</td>\n",
       "      <td>NaN</td>\n",
       "      <td>NaN</td>\n",
       "      <td>2.0</td>\n",
       "      <td>2.0</td>\n",
       "      <td>1.0</td>\n",
       "    </tr>\n",
       "    <tr>\n",
       "      <th>5</th>\n",
       "      <td>1.0</td>\n",
       "      <td>1.0</td>\n",
       "      <td>37.9</td>\n",
       "      <td>48.0</td>\n",
       "      <td>16.0</td>\n",
       "      <td>1.0</td>\n",
       "      <td>3.0</td>\n",
       "      <td>1.0</td>\n",
       "    </tr>\n",
       "    <tr>\n",
       "      <th>6</th>\n",
       "      <td>1.0</td>\n",
       "      <td>1.0</td>\n",
       "      <td>NaN</td>\n",
       "      <td>60.0</td>\n",
       "      <td>NaN</td>\n",
       "      <td>3.0</td>\n",
       "      <td>NaN</td>\n",
       "      <td>2.0</td>\n",
       "    </tr>\n",
       "    <tr>\n",
       "      <th>7</th>\n",
       "      <td>2.0</td>\n",
       "      <td>1.0</td>\n",
       "      <td>NaN</td>\n",
       "      <td>80.0</td>\n",
       "      <td>36.0</td>\n",
       "      <td>3.0</td>\n",
       "      <td>4.0</td>\n",
       "      <td>3.0</td>\n",
       "    </tr>\n",
       "    <tr>\n",
       "      <th>8</th>\n",
       "      <td>2.0</td>\n",
       "      <td>9.0</td>\n",
       "      <td>38.3</td>\n",
       "      <td>90.0</td>\n",
       "      <td>NaN</td>\n",
       "      <td>1.0</td>\n",
       "      <td>5.0</td>\n",
       "      <td>1.0</td>\n",
       "    </tr>\n",
       "    <tr>\n",
       "      <th>9</th>\n",
       "      <td>1.0</td>\n",
       "      <td>1.0</td>\n",
       "      <td>38.1</td>\n",
       "      <td>66.0</td>\n",
       "      <td>12.0</td>\n",
       "      <td>3.0</td>\n",
       "      <td>3.0</td>\n",
       "      <td>1.0</td>\n",
       "    </tr>\n",
       "    <tr>\n",
       "      <th>10</th>\n",
       "      <td>2.0</td>\n",
       "      <td>1.0</td>\n",
       "      <td>39.1</td>\n",
       "      <td>72.0</td>\n",
       "      <td>52.0</td>\n",
       "      <td>2.0</td>\n",
       "      <td>2.0</td>\n",
       "      <td>1.0</td>\n",
       "    </tr>\n",
       "    <tr>\n",
       "      <th>11</th>\n",
       "      <td>1.0</td>\n",
       "      <td>1.0</td>\n",
       "      <td>37.2</td>\n",
       "      <td>42.0</td>\n",
       "      <td>12.0</td>\n",
       "      <td>2.0</td>\n",
       "      <td>3.0</td>\n",
       "      <td>1.0</td>\n",
       "    </tr>\n",
       "    <tr>\n",
       "      <th>12</th>\n",
       "      <td>2.0</td>\n",
       "      <td>9.0</td>\n",
       "      <td>38.0</td>\n",
       "      <td>92.0</td>\n",
       "      <td>28.0</td>\n",
       "      <td>1.0</td>\n",
       "      <td>1.0</td>\n",
       "      <td>2.0</td>\n",
       "    </tr>\n",
       "    <tr>\n",
       "      <th>13</th>\n",
       "      <td>1.0</td>\n",
       "      <td>1.0</td>\n",
       "      <td>38.2</td>\n",
       "      <td>76.0</td>\n",
       "      <td>28.0</td>\n",
       "      <td>3.0</td>\n",
       "      <td>3.0</td>\n",
       "      <td>1.0</td>\n",
       "    </tr>\n",
       "    <tr>\n",
       "      <th>14</th>\n",
       "      <td>1.0</td>\n",
       "      <td>1.0</td>\n",
       "      <td>37.6</td>\n",
       "      <td>96.0</td>\n",
       "      <td>48.0</td>\n",
       "      <td>3.0</td>\n",
       "      <td>5.0</td>\n",
       "      <td>2.0</td>\n",
       "    </tr>\n",
       "    <tr>\n",
       "      <th>15</th>\n",
       "      <td>1.0</td>\n",
       "      <td>9.0</td>\n",
       "      <td>NaN</td>\n",
       "      <td>128.0</td>\n",
       "      <td>36.0</td>\n",
       "      <td>3.0</td>\n",
       "      <td>4.0</td>\n",
       "      <td>2.0</td>\n",
       "    </tr>\n",
       "    <tr>\n",
       "      <th>16</th>\n",
       "      <td>2.0</td>\n",
       "      <td>1.0</td>\n",
       "      <td>37.5</td>\n",
       "      <td>48.0</td>\n",
       "      <td>24.0</td>\n",
       "      <td>NaN</td>\n",
       "      <td>NaN</td>\n",
       "      <td>1.0</td>\n",
       "    </tr>\n",
       "    <tr>\n",
       "      <th>17</th>\n",
       "      <td>1.0</td>\n",
       "      <td>1.0</td>\n",
       "      <td>37.6</td>\n",
       "      <td>64.0</td>\n",
       "      <td>21.0</td>\n",
       "      <td>1.0</td>\n",
       "      <td>2.0</td>\n",
       "      <td>1.0</td>\n",
       "    </tr>\n",
       "    <tr>\n",
       "      <th>18</th>\n",
       "      <td>2.0</td>\n",
       "      <td>1.0</td>\n",
       "      <td>39.4</td>\n",
       "      <td>110.0</td>\n",
       "      <td>35.0</td>\n",
       "      <td>4.0</td>\n",
       "      <td>NaN</td>\n",
       "      <td>1.0</td>\n",
       "    </tr>\n",
       "    <tr>\n",
       "      <th>19</th>\n",
       "      <td>1.0</td>\n",
       "      <td>1.0</td>\n",
       "      <td>39.9</td>\n",
       "      <td>72.0</td>\n",
       "      <td>60.0</td>\n",
       "      <td>1.0</td>\n",
       "      <td>5.0</td>\n",
       "      <td>1.0</td>\n",
       "    </tr>\n",
       "  </tbody>\n",
       "</table>\n",
       "</div>"
      ],
      "text/plain": [
       "    surgery?  Age  rectal_temperature  pulse  respiratory_rate  \\\n",
       "0        1.0  1.0                39.2   88.0              20.0   \n",
       "1        2.0  1.0                38.3   40.0              24.0   \n",
       "2        1.0  9.0                39.1  164.0              84.0   \n",
       "3        2.0  1.0                37.3  104.0              35.0   \n",
       "4        2.0  1.0                 NaN    NaN               NaN   \n",
       "5        1.0  1.0                37.9   48.0              16.0   \n",
       "6        1.0  1.0                 NaN   60.0               NaN   \n",
       "7        2.0  1.0                 NaN   80.0              36.0   \n",
       "8        2.0  9.0                38.3   90.0               NaN   \n",
       "9        1.0  1.0                38.1   66.0              12.0   \n",
       "10       2.0  1.0                39.1   72.0              52.0   \n",
       "11       1.0  1.0                37.2   42.0              12.0   \n",
       "12       2.0  9.0                38.0   92.0              28.0   \n",
       "13       1.0  1.0                38.2   76.0              28.0   \n",
       "14       1.0  1.0                37.6   96.0              48.0   \n",
       "15       1.0  9.0                 NaN  128.0              36.0   \n",
       "16       2.0  1.0                37.5   48.0              24.0   \n",
       "17       1.0  1.0                37.6   64.0              21.0   \n",
       "18       2.0  1.0                39.4  110.0              35.0   \n",
       "19       1.0  1.0                39.9   72.0              60.0   \n",
       "\n",
       "    temperature_of_extremities  pain  outcome  \n",
       "0                          NaN   3.0      3.0  \n",
       "1                          1.0   3.0      1.0  \n",
       "2                          4.0   2.0      2.0  \n",
       "3                          NaN   NaN      2.0  \n",
       "4                          2.0   2.0      1.0  \n",
       "5                          1.0   3.0      1.0  \n",
       "6                          3.0   NaN      2.0  \n",
       "7                          3.0   4.0      3.0  \n",
       "8                          1.0   5.0      1.0  \n",
       "9                          3.0   3.0      1.0  \n",
       "10                         2.0   2.0      1.0  \n",
       "11                         2.0   3.0      1.0  \n",
       "12                         1.0   1.0      2.0  \n",
       "13                         3.0   3.0      1.0  \n",
       "14                         3.0   5.0      2.0  \n",
       "15                         3.0   4.0      2.0  \n",
       "16                         NaN   NaN      1.0  \n",
       "17                         1.0   2.0      1.0  \n",
       "18                         4.0   NaN      1.0  \n",
       "19                         1.0   5.0      1.0  "
      ]
     },
     "execution_count": 145,
     "metadata": {},
     "output_type": "execute_result"
    }
   ],
   "source": [
    "#оставить 8 столбцов для дальнейшего изучения: surgery?, Age, rectal temperature, pulse, \n",
    "#respiratory rate, temperature of extremities, pain, outcome.\n",
    "df_only8 = Frame[['surgery?', 'Age', 'rectal_temperature', 'pulse', 'respiratory_rate', 'temperature_of_extremities', 'pain','outcome']]\n",
    "df_only8.head(20)\n"
   ]
  },
  {
   "cell_type": "markdown",
   "metadata": {},
   "source": [
    "№2"
   ]
  },
  {
   "cell_type": "markdown",
   "metadata": {},
   "source": [
    "Минимум, максимум и размах"
   ]
  },
  {
   "cell_type": "code",
   "execution_count": 5,
   "metadata": {},
   "outputs": [
    {
     "name": "stdout",
     "output_type": "stream",
     "text": [
      "surgery?                        2.0\n",
      "Age                             9.0\n",
      "rectal_temperature             40.8\n",
      "pulse                         184.0\n",
      "respiratory_rate               96.0\n",
      "temperature_of_extremities      4.0\n",
      "pain                            5.0\n",
      "outcome                         3.0\n",
      "dtype: float64\n"
     ]
    }
   ],
   "source": [
    "print(df_only8.max())"
   ]
  },
  {
   "cell_type": "code",
   "execution_count": 6,
   "metadata": {},
   "outputs": [
    {
     "name": "stdout",
     "output_type": "stream",
     "text": [
      "surgery?                       1.0\n",
      "Age                            1.0\n",
      "rectal_temperature            35.4\n",
      "pulse                         30.0\n",
      "respiratory_rate               8.0\n",
      "temperature_of_extremities     1.0\n",
      "pain                           1.0\n",
      "outcome                        1.0\n",
      "dtype: float64\n"
     ]
    }
   ],
   "source": [
    "print(df_only8.min())"
   ]
  },
  {
   "cell_type": "code",
   "execution_count": 7,
   "metadata": {},
   "outputs": [
    {
     "name": "stdout",
     "output_type": "stream",
     "text": [
      "Значение размаха surgery?:  1.0\n",
      "Значение размаха Age:  8.0\n",
      "Значение размаха rectal temperature:  5.399999999999999\n",
      "Значение размаха pulse:  154.0\n",
      "Значение размаха respiratory rate:  88.0\n",
      "Значение размаха temperature of extremities:  3.0\n",
      "Значение размаха pain:  4.0\n",
      "Значение размаха outcome:  2.0\n"
     ]
    }
   ],
   "source": [
    "# размах – разница между минимальным и максимальным значением\n",
    "print('Значение размаха surgery?: ', df_only8['surgery?'].max() - df_only8['surgery?'].min())\n",
    "print('Значение размаха Age: ', df_only8['Age'].max() - df_only8['Age'].min())\n",
    "print('Значение размаха rectal temperature: ', df_only8['rectal_temperature'].max() - df_only8['rectal_temperature'].min())\n",
    "print('Значение размаха pulse: ', df_only8['pulse'].max() - df_only8['pulse'].min())\n",
    "print('Значение размаха respiratory rate: ', df_only8['respiratory_rate'].max() - df_only8['respiratory_rate'].min())\n",
    "print('Значение размаха temperature of extremities: ', df_only8['temperature_of_extremities'].max() - df_only8['temperature_of_extremities'].min())\n",
    "print('Значение размаха pain: ', df_only8['pain'].max() - df_only8['pain'].min())\n",
    "print('Значение размаха outcome: ', df_only8['outcome'].max() - df_only8['outcome'].min())"
   ]
  },
  {
   "cell_type": "markdown",
   "metadata": {},
   "source": [
    "Среднеарифметическое"
   ]
  },
  {
   "cell_type": "code",
   "execution_count": 8,
   "metadata": {},
   "outputs": [
    {
     "name": "stdout",
     "output_type": "stream",
     "text": [
      "surgery?                       1.395973\n",
      "Age                            1.642140\n",
      "rectal_temperature            38.166527\n",
      "pulse                         71.934545\n",
      "respiratory_rate              30.427386\n",
      "temperature_of_extremities     2.345679\n",
      "pain                           2.942623\n",
      "outcome                        1.550336\n",
      "dtype: float64\n"
     ]
    }
   ],
   "source": [
    "print(df_only8.mean())"
   ]
  },
  {
   "cell_type": "markdown",
   "metadata": {},
   "source": [
    "Мода"
   ]
  },
  {
   "cell_type": "code",
   "execution_count": 9,
   "metadata": {},
   "outputs": [
    {
     "name": "stdout",
     "output_type": "stream",
     "text": [
      "Значение моды surgery?:  1.0\n",
      "Значение моды Age:  1.0\n",
      "Значение моды rectal temperature:  38.0\n",
      "Значение моды pulse:  48.0\n",
      "Значение моды respiratory rate:  20.0\n",
      "Значение моды temperature of extremities:  3.0\n",
      "Значение моды pain:  3.0\n",
      "Значение моды outcome:  1.0\n"
     ]
    }
   ],
   "source": [
    "print('Значение моды surgery?: ', df_only8['surgery?'].round().mode()[0])\n",
    "print('Значение моды Age: ', df_only8['Age'].round().mode()[0])\n",
    "print('Значение моды rectal temperature: ', df_only8['rectal_temperature'].round().mode()[0])\n",
    "print('Значение моды pulse: ', df_only8['pulse'].round().mode()[0])\n",
    "print('Значение моды respiratory rate: ', df_only8['respiratory_rate'].round().mode()[0])\n",
    "print('Значение моды temperature of extremities: ', df_only8['temperature_of_extremities'].round().mode()[0])\n",
    "print('Значение моды pain: ', df_only8['pain'].round().mode()[0])\n",
    "print('Значение моды outcome: ', df_only8['outcome'].round().mode()[0])"
   ]
  },
  {
   "cell_type": "markdown",
   "metadata": {},
   "source": [
    "Медиана"
   ]
  },
  {
   "cell_type": "code",
   "execution_count": 10,
   "metadata": {},
   "outputs": [
    {
     "name": "stdout",
     "output_type": "stream",
     "text": [
      "surgery?                       1.0\n",
      "Age                            1.0\n",
      "rectal_temperature            38.2\n",
      "pulse                         64.0\n",
      "respiratory_rate              24.0\n",
      "temperature_of_extremities     3.0\n",
      "pain                           3.0\n",
      "outcome                        1.0\n",
      "dtype: float64\n"
     ]
    }
   ],
   "source": [
    "print(df_only8.median())"
   ]
  },
  {
   "cell_type": "markdown",
   "metadata": {},
   "source": [
    "СКО"
   ]
  },
  {
   "cell_type": "code",
   "execution_count": 11,
   "metadata": {},
   "outputs": [
    {
     "name": "stdout",
     "output_type": "stream",
     "text": [
      "surgery?                       0.489881\n",
      "Age                            2.177300\n",
      "rectal_temperature             0.733508\n",
      "pulse                         28.680522\n",
      "respiratory_rate              17.678256\n",
      "temperature_of_extremities     1.046369\n",
      "pain                           1.303993\n",
      "outcome                        0.737967\n",
      "dtype: float64\n"
     ]
    }
   ],
   "source": [
    "print(np.std(df_only8, ddof=1))"
   ]
  },
  {
   "cell_type": "markdown",
   "metadata": {},
   "source": [
    "Дисперсия"
   ]
  },
  {
   "cell_type": "code",
   "execution_count": 12,
   "metadata": {},
   "outputs": [
    {
     "name": "stdout",
     "output_type": "stream",
     "text": [
      "surgery?                        0.239984\n",
      "Age                             4.740634\n",
      "rectal_temperature              0.538035\n",
      "pulse                         822.572342\n",
      "respiratory_rate              312.520747\n",
      "temperature_of_extremities      1.094888\n",
      "pain                            1.700398\n",
      "outcome                         0.544596\n",
      "dtype: float64\n"
     ]
    }
   ],
   "source": [
    "print(df_only8.var())"
   ]
  },
  {
   "cell_type": "markdown",
   "metadata": {},
   "source": [
    "Квантили"
   ]
  },
  {
   "cell_type": "code",
   "execution_count": 13,
   "metadata": {},
   "outputs": [
    {
     "data": {
      "text/plain": [
       "surgery?                       1.0\n",
       "Age                            1.0\n",
       "rectal_temperature            38.2\n",
       "pulse                         64.0\n",
       "respiratory_rate              24.0\n",
       "temperature_of_extremities     3.0\n",
       "pain                           3.0\n",
       "outcome                        1.0\n",
       "Name: 0.5, dtype: float64"
      ]
     },
     "execution_count": 13,
     "metadata": {},
     "output_type": "execute_result"
    }
   ],
   "source": [
    "# это же медиана!\n",
    "df_only8.quantile()"
   ]
  },
  {
   "cell_type": "code",
   "execution_count": 14,
   "metadata": {},
   "outputs": [
    {
     "data": {
      "text/html": [
       "<div>\n",
       "<style scoped>\n",
       "    .dataframe tbody tr th:only-of-type {\n",
       "        vertical-align: middle;\n",
       "    }\n",
       "\n",
       "    .dataframe tbody tr th {\n",
       "        vertical-align: top;\n",
       "    }\n",
       "\n",
       "    .dataframe thead th {\n",
       "        text-align: right;\n",
       "    }\n",
       "</style>\n",
       "<table border=\"1\" class=\"dataframe\">\n",
       "  <thead>\n",
       "    <tr style=\"text-align: right;\">\n",
       "      <th></th>\n",
       "      <th>surgery?</th>\n",
       "      <th>Age</th>\n",
       "      <th>rectal_temperature</th>\n",
       "      <th>pulse</th>\n",
       "      <th>respiratory_rate</th>\n",
       "      <th>temperature_of_extremities</th>\n",
       "      <th>pain</th>\n",
       "      <th>outcome</th>\n",
       "    </tr>\n",
       "  </thead>\n",
       "  <tbody>\n",
       "    <tr>\n",
       "      <th>0.25</th>\n",
       "      <td>1.0</td>\n",
       "      <td>1.0</td>\n",
       "      <td>37.8</td>\n",
       "      <td>48.0</td>\n",
       "      <td>18.0</td>\n",
       "      <td>1.0</td>\n",
       "      <td>2.0</td>\n",
       "      <td>1.0</td>\n",
       "    </tr>\n",
       "    <tr>\n",
       "      <th>0.75</th>\n",
       "      <td>2.0</td>\n",
       "      <td>1.0</td>\n",
       "      <td>38.5</td>\n",
       "      <td>88.0</td>\n",
       "      <td>36.0</td>\n",
       "      <td>3.0</td>\n",
       "      <td>4.0</td>\n",
       "      <td>2.0</td>\n",
       "    </tr>\n",
       "  </tbody>\n",
       "</table>\n",
       "</div>"
      ],
      "text/plain": [
       "      surgery?  Age  rectal_temperature  pulse  respiratory_rate  \\\n",
       "0.25       1.0  1.0                37.8   48.0              18.0   \n",
       "0.75       2.0  1.0                38.5   88.0              36.0   \n",
       "\n",
       "      temperature_of_extremities  pain  outcome  \n",
       "0.25                         1.0   2.0      1.0  \n",
       "0.75                         3.0   4.0      2.0  "
      ]
     },
     "execution_count": 14,
     "metadata": {},
     "output_type": "execute_result"
    }
   ],
   "source": [
    "# первый и третий квартили\n",
    "df_only8.quantile([0.25, 0.75])"
   ]
  },
  {
   "cell_type": "code",
   "execution_count": 15,
   "metadata": {},
   "outputs": [
    {
     "data": {
      "text/plain": [
       "surgery?                       1.0\n",
       "Age                            1.0\n",
       "rectal_temperature            37.9\n",
       "pulse                         52.0\n",
       "respiratory_rate              20.0\n",
       "temperature_of_extremities     2.0\n",
       "pain                           2.0\n",
       "outcome                        1.0\n",
       "Name: 0.33, dtype: float64"
      ]
     },
     "execution_count": 15,
     "metadata": {},
     "output_type": "execute_result"
    }
   ],
   "source": [
    "# произвольный перцентиль\n",
    "df_only8.quantile(0.33)"
   ]
  },
  {
   "cell_type": "code",
   "execution_count": 16,
   "metadata": {},
   "outputs": [
    {
     "data": {
      "text/plain": [
       "surgery?                       1.0\n",
       "Age                            0.0\n",
       "rectal_temperature             0.7\n",
       "pulse                         40.0\n",
       "respiratory_rate              18.0\n",
       "temperature_of_extremities     2.0\n",
       "pain                           2.0\n",
       "outcome                        1.0\n",
       "dtype: float64"
      ]
     },
     "execution_count": 16,
     "metadata": {},
     "output_type": "execute_result"
    }
   ],
   "source": [
    "# межквартильный размах\n",
    "Q1 = df_only8.quantile(0.25)\n",
    "Q3 = df_only8.quantile(0.75)\n",
    "IQR = Q3 - Q1\n",
    "IQR"
   ]
  },
  {
   "cell_type": "markdown",
   "metadata": {},
   "source": [
    "Выбросы"
   ]
  },
  {
   "cell_type": "code",
   "execution_count": 17,
   "metadata": {},
   "outputs": [
    {
     "data": {
      "text/html": [
       "<div>\n",
       "<style scoped>\n",
       "    .dataframe tbody tr th:only-of-type {\n",
       "        vertical-align: middle;\n",
       "    }\n",
       "\n",
       "    .dataframe tbody tr th {\n",
       "        vertical-align: top;\n",
       "    }\n",
       "\n",
       "    .dataframe thead th {\n",
       "        text-align: right;\n",
       "    }\n",
       "</style>\n",
       "<table border=\"1\" class=\"dataframe\">\n",
       "  <thead>\n",
       "    <tr style=\"text-align: right;\">\n",
       "      <th></th>\n",
       "      <th>surgery?</th>\n",
       "      <th>Age</th>\n",
       "      <th>rectal_temperature</th>\n",
       "      <th>pulse</th>\n",
       "      <th>respiratory_rate</th>\n",
       "      <th>temperature_of_extremities</th>\n",
       "      <th>pain</th>\n",
       "      <th>outcome</th>\n",
       "    </tr>\n",
       "  </thead>\n",
       "  <tbody>\n",
       "    <tr>\n",
       "      <th>0</th>\n",
       "      <td>1.0</td>\n",
       "      <td>1.0</td>\n",
       "      <td>39.2</td>\n",
       "      <td>88.0</td>\n",
       "      <td>20.0</td>\n",
       "      <td>NaN</td>\n",
       "      <td>3.0</td>\n",
       "      <td>3.0</td>\n",
       "    </tr>\n",
       "    <tr>\n",
       "      <th>192</th>\n",
       "      <td>1.0</td>\n",
       "      <td>1.0</td>\n",
       "      <td>NaN</td>\n",
       "      <td>60.0</td>\n",
       "      <td>48.0</td>\n",
       "      <td>3.0</td>\n",
       "      <td>4.0</td>\n",
       "      <td>2.0</td>\n",
       "    </tr>\n",
       "    <tr>\n",
       "      <th>193</th>\n",
       "      <td>2.0</td>\n",
       "      <td>1.0</td>\n",
       "      <td>37.9</td>\n",
       "      <td>88.0</td>\n",
       "      <td>24.0</td>\n",
       "      <td>1.0</td>\n",
       "      <td>2.0</td>\n",
       "      <td>1.0</td>\n",
       "    </tr>\n",
       "    <tr>\n",
       "      <th>194</th>\n",
       "      <td>2.0</td>\n",
       "      <td>1.0</td>\n",
       "      <td>38.0</td>\n",
       "      <td>44.0</td>\n",
       "      <td>12.0</td>\n",
       "      <td>3.0</td>\n",
       "      <td>NaN</td>\n",
       "      <td>1.0</td>\n",
       "    </tr>\n",
       "    <tr>\n",
       "      <th>195</th>\n",
       "      <td>2.0</td>\n",
       "      <td>1.0</td>\n",
       "      <td>38.5</td>\n",
       "      <td>60.0</td>\n",
       "      <td>20.0</td>\n",
       "      <td>1.0</td>\n",
       "      <td>2.0</td>\n",
       "      <td>3.0</td>\n",
       "    </tr>\n",
       "    <tr>\n",
       "      <th>...</th>\n",
       "      <td>...</td>\n",
       "      <td>...</td>\n",
       "      <td>...</td>\n",
       "      <td>...</td>\n",
       "      <td>...</td>\n",
       "      <td>...</td>\n",
       "      <td>...</td>\n",
       "      <td>...</td>\n",
       "    </tr>\n",
       "    <tr>\n",
       "      <th>15</th>\n",
       "      <td>1.0</td>\n",
       "      <td>9.0</td>\n",
       "      <td>NaN</td>\n",
       "      <td>128.0</td>\n",
       "      <td>36.0</td>\n",
       "      <td>3.0</td>\n",
       "      <td>4.0</td>\n",
       "      <td>2.0</td>\n",
       "    </tr>\n",
       "    <tr>\n",
       "      <th>134</th>\n",
       "      <td>1.0</td>\n",
       "      <td>9.0</td>\n",
       "      <td>38.1</td>\n",
       "      <td>136.0</td>\n",
       "      <td>48.0</td>\n",
       "      <td>3.0</td>\n",
       "      <td>5.0</td>\n",
       "      <td>2.0</td>\n",
       "    </tr>\n",
       "    <tr>\n",
       "      <th>54</th>\n",
       "      <td>1.0</td>\n",
       "      <td>9.0</td>\n",
       "      <td>38.6</td>\n",
       "      <td>160.0</td>\n",
       "      <td>20.0</td>\n",
       "      <td>3.0</td>\n",
       "      <td>3.0</td>\n",
       "      <td>2.0</td>\n",
       "    </tr>\n",
       "    <tr>\n",
       "      <th>211</th>\n",
       "      <td>1.0</td>\n",
       "      <td>9.0</td>\n",
       "      <td>38.9</td>\n",
       "      <td>120.0</td>\n",
       "      <td>30.0</td>\n",
       "      <td>1.0</td>\n",
       "      <td>3.0</td>\n",
       "      <td>1.0</td>\n",
       "    </tr>\n",
       "    <tr>\n",
       "      <th>190</th>\n",
       "      <td>2.0</td>\n",
       "      <td>9.0</td>\n",
       "      <td>NaN</td>\n",
       "      <td>100.0</td>\n",
       "      <td>44.0</td>\n",
       "      <td>2.0</td>\n",
       "      <td>4.0</td>\n",
       "      <td>1.0</td>\n",
       "    </tr>\n",
       "  </tbody>\n",
       "</table>\n",
       "<p>224 rows × 8 columns</p>\n",
       "</div>"
      ],
      "text/plain": [
       "     surgery?  Age  rectal_temperature  pulse  respiratory_rate  \\\n",
       "0         1.0  1.0                39.2   88.0              20.0   \n",
       "192       1.0  1.0                 NaN   60.0              48.0   \n",
       "193       2.0  1.0                37.9   88.0              24.0   \n",
       "194       2.0  1.0                38.0   44.0              12.0   \n",
       "195       2.0  1.0                38.5   60.0              20.0   \n",
       "..        ...  ...                 ...    ...               ...   \n",
       "15        1.0  9.0                 NaN  128.0              36.0   \n",
       "134       1.0  9.0                38.1  136.0              48.0   \n",
       "54        1.0  9.0                38.6  160.0              20.0   \n",
       "211       1.0  9.0                38.9  120.0              30.0   \n",
       "190       2.0  9.0                 NaN  100.0              44.0   \n",
       "\n",
       "     temperature_of_extremities  pain  outcome  \n",
       "0                           NaN   3.0      3.0  \n",
       "192                         3.0   4.0      2.0  \n",
       "193                         1.0   2.0      1.0  \n",
       "194                         3.0   NaN      1.0  \n",
       "195                         1.0   2.0      3.0  \n",
       "..                          ...   ...      ...  \n",
       "15                          3.0   4.0      2.0  \n",
       "134                         3.0   5.0      2.0  \n",
       "54                          3.0   3.0      2.0  \n",
       "211                         1.0   3.0      1.0  \n",
       "190                         2.0   4.0      1.0  \n",
       "\n",
       "[224 rows x 8 columns]"
      ]
     },
     "execution_count": 17,
     "metadata": {},
     "output_type": "execute_result"
    }
   ],
   "source": [
    "#А теперь найдем выбросы через межквартльный размах\n",
    "q1 = df_only8['respiratory_rate'].quantile(0.25)\n",
    "q3 = df_only8['respiratory_rate'].quantile(0.75)\n",
    "iqr = q3 - q1\n",
    "iqr\n",
    "lower_bound = q1 - (1.5 * iqr) \n",
    "upper_bound = q3 + (1.5 * iqr)\n",
    "remove_outliers = df_only8[df_only8['respiratory_rate'].between(lower_bound, upper_bound, inclusive=True)].sort_values('Age')\n",
    "remove_outliers\n"
   ]
  },
  {
   "cell_type": "code",
   "execution_count": 18,
   "metadata": {},
   "outputs": [
    {
     "data": {
      "text/html": [
       "<div>\n",
       "<style scoped>\n",
       "    .dataframe tbody tr th:only-of-type {\n",
       "        vertical-align: middle;\n",
       "    }\n",
       "\n",
       "    .dataframe tbody tr th {\n",
       "        vertical-align: top;\n",
       "    }\n",
       "\n",
       "    .dataframe thead th {\n",
       "        text-align: right;\n",
       "    }\n",
       "</style>\n",
       "<table border=\"1\" class=\"dataframe\">\n",
       "  <thead>\n",
       "    <tr style=\"text-align: right;\">\n",
       "      <th></th>\n",
       "      <th>surgery?</th>\n",
       "      <th>Age</th>\n",
       "      <th>rectal_temperature</th>\n",
       "      <th>pulse</th>\n",
       "      <th>respiratory_rate</th>\n",
       "      <th>temperature_of_extremities</th>\n",
       "      <th>pain</th>\n",
       "      <th>outcome</th>\n",
       "    </tr>\n",
       "  </thead>\n",
       "  <tbody>\n",
       "    <tr>\n",
       "      <th>2</th>\n",
       "      <td>1.0</td>\n",
       "      <td>9.0</td>\n",
       "      <td>39.1</td>\n",
       "      <td>164.0</td>\n",
       "      <td>84.0</td>\n",
       "      <td>4.0</td>\n",
       "      <td>2.0</td>\n",
       "      <td>2.0</td>\n",
       "    </tr>\n",
       "    <tr>\n",
       "      <th>4</th>\n",
       "      <td>2.0</td>\n",
       "      <td>1.0</td>\n",
       "      <td>NaN</td>\n",
       "      <td>NaN</td>\n",
       "      <td>NaN</td>\n",
       "      <td>2.0</td>\n",
       "      <td>2.0</td>\n",
       "      <td>1.0</td>\n",
       "    </tr>\n",
       "    <tr>\n",
       "      <th>6</th>\n",
       "      <td>1.0</td>\n",
       "      <td>1.0</td>\n",
       "      <td>NaN</td>\n",
       "      <td>60.0</td>\n",
       "      <td>NaN</td>\n",
       "      <td>3.0</td>\n",
       "      <td>NaN</td>\n",
       "      <td>2.0</td>\n",
       "    </tr>\n",
       "    <tr>\n",
       "      <th>8</th>\n",
       "      <td>2.0</td>\n",
       "      <td>9.0</td>\n",
       "      <td>38.3</td>\n",
       "      <td>90.0</td>\n",
       "      <td>NaN</td>\n",
       "      <td>1.0</td>\n",
       "      <td>5.0</td>\n",
       "      <td>1.0</td>\n",
       "    </tr>\n",
       "    <tr>\n",
       "      <th>28</th>\n",
       "      <td>2.0</td>\n",
       "      <td>1.0</td>\n",
       "      <td>37.7</td>\n",
       "      <td>48.0</td>\n",
       "      <td>NaN</td>\n",
       "      <td>2.0</td>\n",
       "      <td>1.0</td>\n",
       "      <td>1.0</td>\n",
       "    </tr>\n",
       "    <tr>\n",
       "      <th>...</th>\n",
       "      <td>...</td>\n",
       "      <td>...</td>\n",
       "      <td>...</td>\n",
       "      <td>...</td>\n",
       "      <td>...</td>\n",
       "      <td>...</td>\n",
       "      <td>...</td>\n",
       "      <td>...</td>\n",
       "    </tr>\n",
       "    <tr>\n",
       "      <th>270</th>\n",
       "      <td>1.0</td>\n",
       "      <td>1.0</td>\n",
       "      <td>37.7</td>\n",
       "      <td>80.0</td>\n",
       "      <td>NaN</td>\n",
       "      <td>3.0</td>\n",
       "      <td>5.0</td>\n",
       "      <td>1.0</td>\n",
       "    </tr>\n",
       "    <tr>\n",
       "      <th>273</th>\n",
       "      <td>1.0</td>\n",
       "      <td>1.0</td>\n",
       "      <td>NaN</td>\n",
       "      <td>76.0</td>\n",
       "      <td>NaN</td>\n",
       "      <td>NaN</td>\n",
       "      <td>NaN</td>\n",
       "      <td>3.0</td>\n",
       "    </tr>\n",
       "    <tr>\n",
       "      <th>280</th>\n",
       "      <td>2.0</td>\n",
       "      <td>1.0</td>\n",
       "      <td>40.0</td>\n",
       "      <td>78.0</td>\n",
       "      <td>NaN</td>\n",
       "      <td>3.0</td>\n",
       "      <td>2.0</td>\n",
       "      <td>2.0</td>\n",
       "    </tr>\n",
       "    <tr>\n",
       "      <th>283</th>\n",
       "      <td>2.0</td>\n",
       "      <td>1.0</td>\n",
       "      <td>38.5</td>\n",
       "      <td>54.0</td>\n",
       "      <td>NaN</td>\n",
       "      <td>1.0</td>\n",
       "      <td>3.0</td>\n",
       "      <td>1.0</td>\n",
       "    </tr>\n",
       "    <tr>\n",
       "      <th>294</th>\n",
       "      <td>1.0</td>\n",
       "      <td>1.0</td>\n",
       "      <td>NaN</td>\n",
       "      <td>120.0</td>\n",
       "      <td>70.0</td>\n",
       "      <td>4.0</td>\n",
       "      <td>2.0</td>\n",
       "      <td>3.0</td>\n",
       "    </tr>\n",
       "  </tbody>\n",
       "</table>\n",
       "<p>62 rows × 8 columns</p>\n",
       "</div>"
      ],
      "text/plain": [
       "     surgery?  Age  rectal_temperature  pulse  respiratory_rate  \\\n",
       "2         1.0  9.0                39.1  164.0              84.0   \n",
       "4         2.0  1.0                 NaN    NaN               NaN   \n",
       "6         1.0  1.0                 NaN   60.0               NaN   \n",
       "8         2.0  9.0                38.3   90.0               NaN   \n",
       "28        2.0  1.0                37.7   48.0               NaN   \n",
       "..        ...  ...                 ...    ...               ...   \n",
       "270       1.0  1.0                37.7   80.0               NaN   \n",
       "273       1.0  1.0                 NaN   76.0               NaN   \n",
       "280       2.0  1.0                40.0   78.0               NaN   \n",
       "283       2.0  1.0                38.5   54.0               NaN   \n",
       "294       1.0  1.0                 NaN  120.0              70.0   \n",
       "\n",
       "     temperature_of_extremities  pain  outcome  \n",
       "2                           4.0   2.0      2.0  \n",
       "4                           2.0   2.0      1.0  \n",
       "6                           3.0   NaN      2.0  \n",
       "8                           1.0   5.0      1.0  \n",
       "28                          2.0   1.0      1.0  \n",
       "..                          ...   ...      ...  \n",
       "270                         3.0   5.0      1.0  \n",
       "273                         NaN   NaN      3.0  \n",
       "280                         3.0   2.0      2.0  \n",
       "283                         1.0   3.0      1.0  \n",
       "294                         4.0   2.0      3.0  \n",
       "\n",
       "[62 rows x 8 columns]"
      ]
     },
     "execution_count": 18,
     "metadata": {},
     "output_type": "execute_result"
    }
   ],
   "source": [
    "# что это за выброс?\n",
    "pd.concat([df_only8, remove_outliers]).drop_duplicates(keep=False)"
   ]
  },
  {
   "cell_type": "code",
   "execution_count": 19,
   "metadata": {},
   "outputs": [
    {
     "name": "stdout",
     "output_type": "stream",
     "text": [
      "26.709821428571427\n",
      "24.0\n"
     ]
    }
   ],
   "source": [
    "print(remove_outliers['respiratory_rate'].mean())\n",
    "print(remove_outliers['respiratory_rate'].median())"
   ]
  },
  {
   "cell_type": "markdown",
   "metadata": {},
   "source": [
    "№3"
   ]
  },
  {
   "cell_type": "markdown",
   "metadata": {},
   "source": [
    "Пропуски"
   ]
  },
  {
   "cell_type": "code",
   "execution_count": 41,
   "metadata": {},
   "outputs": [
    {
     "name": "stdout",
     "output_type": "stream",
     "text": [
      "<class 'pandas.core.frame.DataFrame'>\n",
      "RangeIndex: 299 entries, 0 to 298\n",
      "Data columns (total 8 columns):\n",
      " #   Column                      Non-Null Count  Dtype  \n",
      "---  ------                      --------------  -----  \n",
      " 0   surgery?                    298 non-null    float64\n",
      " 1   Age                         299 non-null    float64\n",
      " 2   rectal_temperature          239 non-null    float64\n",
      " 3   pulse                       275 non-null    float64\n",
      " 4   respiratory_rate            299 non-null    float64\n",
      " 5   temperature_of_extremities  243 non-null    float64\n",
      " 6   pain                        244 non-null    float64\n",
      " 7   outcome                     298 non-null    float64\n",
      "dtypes: float64(8)\n",
      "memory usage: 18.8 KB\n"
     ]
    }
   ],
   "source": [
    "df_only8.info()"
   ]
  },
  {
   "cell_type": "code",
   "execution_count": 22,
   "metadata": {},
   "outputs": [
    {
     "data": {
      "text/plain": [
       "surgery?                       0.33\n",
       "Age                            0.00\n",
       "rectal_temperature            20.07\n",
       "pulse                          8.03\n",
       "respiratory_rate              19.40\n",
       "temperature_of_extremities    18.73\n",
       "pain                          18.39\n",
       "outcome                        0.33\n",
       "dtype: float64"
      ]
     },
     "execution_count": 22,
     "metadata": {},
     "output_type": "execute_result"
    }
   ],
   "source": [
    "(df_only8.isna().mean() * 100).round(2)"
   ]
  },
  {
   "cell_type": "markdown",
   "metadata": {},
   "source": [
    "Игнорирование пропусков"
   ]
  },
  {
   "cell_type": "code",
   "execution_count": 23,
   "metadata": {},
   "outputs": [
    {
     "name": "stdout",
     "output_type": "stream",
     "text": [
      "38.166527196652744\n",
      "38.2\n",
      "38.0\n",
      "0.7335083691537396\n",
      "0.5380345276185787\n"
     ]
    }
   ],
   "source": [
    "# все методы pandas по-умолчанию просто не берут в расчет пропуски\n",
    "print(df_only8.rectal_temperature.mean())\n",
    "print(df_only8.rectal_temperature.median())\n",
    "print(df_only8.rectal_temperature.mode()[0])\n",
    "\n",
    "print(df_only8.rectal_temperature.std())\n",
    "print(df_only8.rectal_temperature.var()) "
   ]
  },
  {
   "cell_type": "code",
   "execution_count": 24,
   "metadata": {},
   "outputs": [
    {
     "name": "stdout",
     "output_type": "stream",
     "text": [
      "71.93454545454546\n",
      "64.0\n",
      "48.0\n",
      "28.68052200365475\n",
      "822.5723424021243\n"
     ]
    }
   ],
   "source": [
    "print(df_only8.pulse.mean())\n",
    "print(df_only8.pulse.median())\n",
    "print(df_only8.pulse.mode()[0])\n",
    "\n",
    "print(df_only8.pulse.std())\n",
    "print(df_only8.pulse.var())"
   ]
  },
  {
   "cell_type": "code",
   "execution_count": 25,
   "metadata": {},
   "outputs": [
    {
     "name": "stdout",
     "output_type": "stream",
     "text": [
      "30.42738589211618\n",
      "24.0\n",
      "20.0\n",
      "17.67825633053121\n",
      "312.5207468879668\n"
     ]
    }
   ],
   "source": [
    "print(df_only8.respiratory_rate.mean())\n",
    "print(df_only8.respiratory_rate.median())\n",
    "print(df_only8.respiratory_rate.mode()[0])\n",
    "\n",
    "print(df_only8.respiratory_rate.std())\n",
    "print(df_only8.respiratory_rate.var())"
   ]
  },
  {
   "cell_type": "code",
   "execution_count": 26,
   "metadata": {},
   "outputs": [
    {
     "name": "stdout",
     "output_type": "stream",
     "text": [
      "2.345679012345679\n",
      "3.0\n",
      "3.0\n",
      "1.0463690920064774\n",
      "1.09488827670646\n"
     ]
    }
   ],
   "source": [
    "print(df_only8.temperature_of_extremities.mean())\n",
    "print(df_only8.temperature_of_extremities.median())\n",
    "print(df_only8.temperature_of_extremities.mode()[0])\n",
    "\n",
    "print(df_only8.temperature_of_extremities.std())\n",
    "print(df_only8.temperature_of_extremities.var()) "
   ]
  },
  {
   "cell_type": "code",
   "execution_count": 27,
   "metadata": {},
   "outputs": [
    {
     "name": "stdout",
     "output_type": "stream",
     "text": [
      "2.942622950819672\n",
      "3.0\n",
      "3.0\n",
      "1.3039931096782595\n",
      "1.7003980300883774\n"
     ]
    }
   ],
   "source": [
    "print(df_only8.pain.mean())\n",
    "print(df_only8.pain.median())\n",
    "print(df_only8.pain.mode()[0])\n",
    "\n",
    "print(df_only8.pain.std())\n",
    "print(df_only8.pain.var()) "
   ]
  },
  {
   "cell_type": "markdown",
   "metadata": {},
   "source": [
    "Удаление строк с пропусками"
   ]
  },
  {
   "cell_type": "code",
   "execution_count": 40,
   "metadata": {},
   "outputs": [
    {
     "name": "stdout",
     "output_type": "stream",
     "text": [
      "<class 'pandas.core.frame.DataFrame'>\n",
      "Int64Index: 174 entries, 1 to 297\n",
      "Data columns (total 8 columns):\n",
      " #   Column                      Non-Null Count  Dtype  \n",
      "---  ------                      --------------  -----  \n",
      " 0   surgery?                    174 non-null    float64\n",
      " 1   Age                         174 non-null    float64\n",
      " 2   rectal_temperature          174 non-null    float64\n",
      " 3   pulse                       174 non-null    float64\n",
      " 4   respiratory_rate            174 non-null    float64\n",
      " 5   temperature_of_extremities  174 non-null    float64\n",
      " 6   pain                        174 non-null    float64\n",
      " 7   outcome                     174 non-null    float64\n",
      "dtypes: float64(8)\n",
      "memory usage: 12.2 KB\n"
     ]
    }
   ],
   "source": [
    "df_only8.dropna().info()"
   ]
  },
  {
   "cell_type": "code",
   "execution_count": 29,
   "metadata": {},
   "outputs": [
    {
     "name": "stdout",
     "output_type": "stream",
     "text": [
      "38.161437908496744\n",
      "38.2\n",
      "38.0\n",
      "0.7337829328220027\n",
      "0.5384373925008596\n"
     ]
    }
   ],
   "source": [
    "# посмотрите на сколько исказились статистики, если мы удалим все строки с пропусками\n",
    "print(df_only8.dropna()['rectal_temperature'].mean())\n",
    "print(df_only8.dropna()['rectal_temperature'].median())\n",
    "print(df_only8.dropna()['rectal_temperature'].mode()[0])\n",
    "\n",
    "print(df_only8.dropna()['rectal_temperature'].std())\n",
    "print(df_only8.dropna()['rectal_temperature'].var())"
   ]
  },
  {
   "cell_type": "code",
   "execution_count": 80,
   "metadata": {},
   "outputs": [],
   "source": [
    "#как мы видим значительных изменений по столбцу rectal_temperature у нас не произошло, проверяем остальные столбцы с пропусками   "
   ]
  },
  {
   "cell_type": "code",
   "execution_count": 81,
   "metadata": {},
   "outputs": [
    {
     "name": "stdout",
     "output_type": "stream",
     "text": [
      "70.87581699346406\n",
      "60.0\n",
      "48.0\n",
      "29.70431482511332\n",
      "882.346319229447\n"
     ]
    }
   ],
   "source": [
    "print(df_only8.dropna()['pulse'].mean())\n",
    "print(df_only8.dropna()['pulse'].median())\n",
    "print(df_only8.dropna()['pulse'].mode()[0])\n",
    "\n",
    "print(df_only8.dropna()['pulse'].std())\n",
    "print(df_only8.dropna()['pulse'].var())"
   ]
  },
  {
   "cell_type": "code",
   "execution_count": 82,
   "metadata": {},
   "outputs": [],
   "source": [
    "#немного исказились данынные по mean, median, std на столбце pulse, после удаления всех строк из дата фрейма"
   ]
  },
  {
   "cell_type": "code",
   "execution_count": 30,
   "metadata": {},
   "outputs": [
    {
     "name": "stdout",
     "output_type": "stream",
     "text": [
      "29.66013071895425\n",
      "26.0\n",
      "16.0\n",
      "16.174689209855984\n",
      "261.6205710354316\n"
     ]
    }
   ],
   "source": [
    "print(df_only8.dropna()['respiratory_rate'].mean())\n",
    "print(df_only8.dropna()['respiratory_rate'].median())\n",
    "print(df_only8.dropna()['respiratory_rate'].mode()[0])\n",
    "\n",
    "print(df_only8.dropna()['respiratory_rate'].std())\n",
    "print(df_only8.dropna()['respiratory_rate'].var())"
   ]
  },
  {
   "cell_type": "code",
   "execution_count": 85,
   "metadata": {},
   "outputs": [],
   "source": [
    "#искажаются весомо значения var и mode на столбце respiratory_rate, \n",
    "#после удаления всех строк из дата фрейма из чего можно сделать вывод\n",
    "#что нам не подходит метот удаления пропусков"
   ]
  },
  {
   "cell_type": "code",
   "execution_count": 46,
   "metadata": {},
   "outputs": [
    {
     "name": "stdout",
     "output_type": "stream",
     "text": [
      "Age\n",
      "1.0    28.239819\n",
      "9.0    54.600000\n",
      "Name: respiratory_rate, dtype: float64\n"
     ]
    }
   ],
   "source": [
    "# мы не можем исключать, что средняя частота дыхания зависит от возраста лошади\n",
    "print(df_only8.groupby('Age')['respiratory_rate'].mean())\n",
    "#df_only8['respiratory_rate'].fillna(df_only8.groupby('Age')['respiratory_rate'].transform('mean'), inplace=True)"
   ]
  },
  {
   "cell_type": "code",
   "execution_count": 52,
   "metadata": {},
   "outputs": [
    {
     "name": "stdout",
     "output_type": "stream",
     "text": [
      "Age\n",
      "1.0    24.0\n",
      "9.0    49.0\n",
      "Name: respiratory_rate, dtype: float64\n"
     ]
    }
   ],
   "source": [
    "print(df_only8.groupby('Age')['respiratory_rate'].median())"
   ]
  },
  {
   "cell_type": "code",
   "execution_count": 49,
   "metadata": {},
   "outputs": [
    {
     "name": "stdout",
     "output_type": "stream",
     "text": [
      "Age  pain  surgery?  outcome\n",
      "1.0  1.0   1.0       1.0        18.285714\n",
      "           2.0       1.0        22.380952\n",
      "                     2.0        18.000000\n",
      "                     3.0        20.000000\n",
      "     2.0   1.0       1.0        36.636364\n",
      "                     2.0        28.250000\n",
      "                     3.0        41.500000\n",
      "           2.0       1.0        24.941176\n",
      "                     2.0        36.000000\n",
      "                     3.0        21.000000\n",
      "     3.0   1.0       1.0        23.740741\n",
      "                     2.0        36.000000\n",
      "                     3.0        20.000000\n",
      "           2.0       1.0        26.588235\n",
      "                     2.0        21.333333\n",
      "                     3.0        44.000000\n",
      "     4.0   1.0       1.0        36.166667\n",
      "                     2.0        28.090909\n",
      "                     3.0        28.000000\n",
      "           2.0       1.0        25.000000\n",
      "                     2.0        48.000000\n",
      "                     3.0        24.000000\n",
      "     5.0   1.0       1.0        31.285714\n",
      "                     2.0        30.600000\n",
      "                     3.0        30.666667\n",
      "           2.0       1.0        24.000000\n",
      "                     2.0        29.000000\n",
      "9.0  1.0   2.0       2.0        28.000000\n",
      "     2.0   1.0       1.0        74.000000\n",
      "                     2.0        60.000000\n",
      "                     3.0              NaN\n",
      "     3.0   1.0       1.0        59.333333\n",
      "                     2.0        30.000000\n",
      "     4.0   1.0       2.0        60.000000\n",
      "           2.0       1.0        44.000000\n",
      "     5.0   1.0       2.0        49.000000\n",
      "           2.0       1.0              NaN\n",
      "Name: respiratory_rate, dtype: float64\n"
     ]
    }
   ],
   "source": [
    "# возможно так же зависи от боли и была ли операция - попадает не определенное значение по свяке 9 лет боль 5 и операции не было\n",
    "# скорее всего исход так же связан с частотой дыхания \n",
    "print(df_only8.groupby(['Age','pain','surgery?','outcome'])['respiratory_rate'].mean())"
   ]
  },
  {
   "cell_type": "code",
   "execution_count": 80,
   "metadata": {},
   "outputs": [
    {
     "name": "stdout",
     "output_type": "stream",
     "text": [
      "Age  surgery?\n",
      "1.0  1.0         30.356589\n",
      "     2.0         25.329670\n",
      "9.0  1.0         59.333333\n",
      "     2.0         40.400000\n",
      "Name: respiratory_rate, dtype: float64\n",
      "-----------------------------------\n",
      "Age  surgery?\n",
      "1.0  1.0         24.0\n",
      "     2.0         24.0\n",
      "9.0  1.0         60.0\n",
      "     2.0         30.0\n",
      "Name: respiratory_rate, dtype: float64\n"
     ]
    }
   ],
   "source": [
    "print(df_only8.groupby(['Age','surgery?'])['respiratory_rate'].mean())\n",
    "print('-----------------------------------')\n",
    "print(df_only8.groupby(['Age','surgery?'])['respiratory_rate'].median()) "
   ]
  },
  {
   "cell_type": "code",
   "execution_count": 60,
   "metadata": {},
   "outputs": [
    {
     "name": "stdout",
     "output_type": "stream",
     "text": [
      "Age  pain\n",
      "1.0  1.0     20.0\n",
      "     2.0     28.0\n",
      "     3.0     24.0\n",
      "     4.0     27.5\n",
      "     5.0     29.0\n",
      "9.0  1.0     28.0\n",
      "     2.0     72.0\n",
      "     3.0     40.0\n",
      "     4.0     44.0\n",
      "     5.0     49.0\n",
      "Name: respiratory_rate, dtype: float64\n",
      "-----------------------------------\n",
      "Age  pain\n",
      "1.0  1.0     21.200000\n",
      "     2.0     30.375000\n",
      "     3.0     25.905660\n",
      "     4.0     29.535714\n",
      "     5.0     30.423077\n",
      "9.0  1.0     28.000000\n",
      "     2.0     67.000000\n",
      "     3.0     47.600000\n",
      "     4.0     54.666667\n",
      "     5.0     49.000000\n",
      "Name: respiratory_rate, dtype: float64\n"
     ]
    }
   ],
   "source": [
    "print(df_only8.groupby(['Age','pain'])['respiratory_rate'].median()) \n",
    "print('-----------------------------------')\n",
    "print(df_only8.groupby(['Age','pain'])['respiratory_rate'].mean())"
   ]
  },
  {
   "cell_type": "code",
   "execution_count": 148,
   "metadata": {},
   "outputs": [
    {
     "name": "stdout",
     "output_type": "stream",
     "text": [
      "Age  pain\n",
      "1.0  1.0     20.0\n",
      "     2.0     28.0\n",
      "     3.0     24.0\n",
      "     4.0     27.5\n",
      "     5.0     29.0\n",
      "9.0  1.0     28.0\n",
      "     2.0     72.0\n",
      "     3.0     40.0\n",
      "     4.0     44.0\n",
      "     5.0     49.0\n",
      "Name: respiratory_rate, dtype: float64\n"
     ]
    }
   ],
   "source": [
    "#остановилась на медиане и зависимости частоты дыхания от возраста и боли (заполняем значения)\n",
    "print(df_only8.groupby(['Age','pain'])['respiratory_rate'].median()) \n",
    "df_only8['respiratory_rate'].fillna(df_only8.groupby(['Age','pain'])['respiratory_rate'].transform('median'), inplace=True)"
   ]
  },
  {
   "cell_type": "code",
   "execution_count": 147,
   "metadata": {},
   "outputs": [
    {
     "name": "stdout",
     "output_type": "stream",
     "text": [
      "surgery?  outcome  pain\n",
      "1.0       1.0      1.0     38.10\n",
      "                   2.0     38.30\n",
      "                   3.0     38.10\n",
      "                   4.0     38.25\n",
      "                   5.0     37.90\n",
      "          2.0      2.0     38.90\n",
      "                   3.0     37.80\n",
      "                   4.0     38.10\n",
      "                   5.0     38.00\n",
      "          3.0      2.0     38.10\n",
      "                   3.0     39.20\n",
      "                   4.0     38.15\n",
      "                   5.0     38.05\n",
      "2.0       1.0      1.0     38.30\n",
      "                   2.0     38.20\n",
      "                   3.0     38.20\n",
      "                   4.0     38.00\n",
      "                   5.0     38.30\n",
      "          2.0      1.0     37.30\n",
      "                   2.0     40.00\n",
      "                   3.0     38.00\n",
      "                   4.0     37.20\n",
      "                   5.0     38.60\n",
      "          3.0      1.0     37.60\n",
      "                   2.0     38.35\n",
      "                   3.0     37.00\n",
      "                   4.0     38.15\n",
      "Name: rectal_temperature, dtype: float64\n"
     ]
    }
   ],
   "source": [
    "# rectal_temperature может зависеть от того былали операция, исход и боль\n",
    "print(df_only8.groupby(['surgery?','outcome','pain'])['rectal_temperature'].median()) \n",
    "df_only8['rectal_temperature'].fillna(df_only8.groupby(['surgery?','outcome','pain'])['rectal_temperature'].transform('median'), inplace=True)"
   ]
  },
  {
   "cell_type": "code",
   "execution_count": 149,
   "metadata": {},
   "outputs": [
    {
     "name": "stdout",
     "output_type": "stream",
     "text": [
      "surgery?  Age  outcome\n",
      "1.0       1.0  1.0         60.0\n",
      "               2.0         73.5\n",
      "               3.0         79.0\n",
      "          9.0  1.0        122.0\n",
      "               2.0        146.0\n",
      "               3.0        100.0\n",
      "2.0       1.0  1.0         50.0\n",
      "               2.0         92.0\n",
      "               3.0         85.0\n",
      "          9.0  1.0         90.0\n",
      "               2.0         92.0\n",
      "Name: pulse, dtype: float64\n"
     ]
    }
   ],
   "source": [
    "# пульс может зависеть от того былали операция и какой возраст + исход\n",
    "print(df_only8.groupby(['surgery?','Age','outcome'])['pulse'].median()) \n",
    "df_only8['pulse'].fillna(df_only8.groupby(['surgery?','Age','outcome'])['pulse'].transform('median'), inplace=True)"
   ]
  },
  {
   "cell_type": "code",
   "execution_count": 150,
   "metadata": {},
   "outputs": [
    {
     "name": "stdout",
     "output_type": "stream",
     "text": [
      "surgery?  rectal_temperature\n",
      "1.0       35.4                  3.0\n",
      "          36.4                  3.0\n",
      "          36.5                  2.0\n",
      "          36.8                  NaN\n",
      "          37.0                  1.0\n",
      "                               ... \n",
      "2.0       39.4                  4.0\n",
      "          39.5                  3.0\n",
      "          39.6                  3.0\n",
      "          40.0                  3.0\n",
      "          40.3                  3.0\n",
      "Name: temperature_of_extremities, Length: 65, dtype: float64\n"
     ]
    }
   ],
   "source": [
    "#temperature_of_extremities может зависеть от темпиратуры тела и операци \n",
    "print(df_only8.groupby(['surgery?','rectal_temperature'])['temperature_of_extremities'].median())\n",
    "df_only8['temperature_of_extremities'].fillna(df_only8.groupby(['surgery?','rectal_temperature'])['temperature_of_extremities'].transform('median'), inplace=True)\n",
    "\n"
   ]
  },
  {
   "cell_type": "code",
   "execution_count": 163,
   "metadata": {},
   "outputs": [
    {
     "name": "stdout",
     "output_type": "stream",
     "text": [
      "surgery?  rectal_temperature  outcome\n",
      "1.0       35.4                3.0        4.0\n",
      "          36.4                2.0        4.0\n",
      "          36.5                1.0        4.0\n",
      "          36.8                2.0        NaN\n",
      "          37.0                2.0        4.0\n",
      "                                        ... \n",
      "2.0       39.5                3.0        3.0\n",
      "          39.6                1.0        2.0\n",
      "          40.0                2.0        2.0\n",
      "          40.3                2.0        2.0\n",
      "                              3.0        2.0\n",
      "Name: pain, Length: 113, dtype: float64\n"
     ]
    }
   ],
   "source": [
    "# pain может зависеть от темпиратуры тела, наличия операции и исхода + темпиратуры конечностей\n",
    "print(df_only8.groupby(['surgery?','rectal_temperature','outcome'])['pain'].median())\n",
    "df_only8['pain'].fillna(df_only8.groupby(['surgery?','rectal_temperature','outcome'])['pain'].transform('median'), inplace=True)"
   ]
  },
  {
   "cell_type": "code",
   "execution_count": 162,
   "metadata": {},
   "outputs": [
    {
     "name": "stdout",
     "output_type": "stream",
     "text": [
      "<class 'pandas.core.frame.DataFrame'>\n",
      "RangeIndex: 299 entries, 0 to 298\n",
      "Data columns (total 8 columns):\n",
      " #   Column                      Non-Null Count  Dtype  \n",
      "---  ------                      --------------  -----  \n",
      " 0   surgery?                    298 non-null    float64\n",
      " 1   Age                         299 non-null    float64\n",
      " 2   rectal_temperature          284 non-null    float64\n",
      " 3   pulse                       299 non-null    float64\n",
      " 4   respiratory_rate            285 non-null    float64\n",
      " 5   temperature_of_extremities  286 non-null    float64\n",
      " 6   pain                        271 non-null    float64\n",
      " 7   outcome                     298 non-null    float64\n",
      "dtypes: float64(8)\n",
      "memory usage: 18.8 KB\n"
     ]
    }
   ],
   "source": [
    "df_only8.info()\n"
   ]
  },
  {
   "cell_type": "code",
   "execution_count": 166,
   "metadata": {},
   "outputs": [
    {
     "name": "stdout",
     "output_type": "stream",
     "text": [
      "<class 'pandas.core.frame.DataFrame'>\n",
      "Int64Index: 267 entries, 0 to 297\n",
      "Data columns (total 8 columns):\n",
      " #   Column                      Non-Null Count  Dtype  \n",
      "---  ------                      --------------  -----  \n",
      " 0   surgery?                    267 non-null    float64\n",
      " 1   Age                         267 non-null    float64\n",
      " 2   rectal_temperature          267 non-null    float64\n",
      " 3   pulse                       267 non-null    float64\n",
      " 4   respiratory_rate            267 non-null    float64\n",
      " 5   temperature_of_extremities  267 non-null    float64\n",
      " 6   pain                        267 non-null    float64\n",
      " 7   outcome                     267 non-null    float64\n",
      "dtypes: float64(8)\n",
      "memory usage: 18.8 KB\n"
     ]
    }
   ],
   "source": [
    "# не большое количество недозаполненых сткок удаляем, так как нам не хватате данных для их дозаполнения(и после удаления строк значения по метрикам ближе, чем без удаления к первоначальным) \n",
    "df_only8.dropna().info()"
   ]
  },
  {
   "cell_type": "code",
   "execution_count": 170,
   "metadata": {},
   "outputs": [
    {
     "name": "stdout",
     "output_type": "stream",
     "text": [
      "71.96321070234114\n",
      "64.0\n",
      "60.0\n",
      "28.238711310936907\n",
      "797.424816502436\n",
      "---------\n",
      "71.78651685393258\n",
      "64.0\n",
      "48.0\n",
      "28.378969462383505\n",
      "805.3659077468955\n"
     ]
    },
    {
     "data": {
      "text/plain": [
       "' изначально с пропусками было вот такое значение\\n71.93454545454546\\n64.0\\n48.0\\n28.68052200365475\\n822.5723424021243'"
      ]
     },
     "execution_count": 170,
     "metadata": {},
     "output_type": "execute_result"
    }
   ],
   "source": [
    "print(df_only8.pulse.mean())\n",
    "print(df_only8.pulse.median())\n",
    "print(df_only8.pulse.mode()[0])\n",
    "\n",
    "print(df_only8.pulse.std())\n",
    "print(df_only8.pulse.var())\n",
    "\n",
    "print('---------')\n",
    "\n",
    "print(df_only8.dropna()['pulse'].mean())\n",
    "print(df_only8.dropna()['pulse'].median())\n",
    "print(df_only8.dropna()['pulse'].mode()[0])\n",
    "\n",
    "print(df_only8.dropna()['pulse'].std())\n",
    "print(df_only8.dropna()['pulse'].var()) \n",
    "\n",
    "\"\"\" изначально с пропусками было вот такое значение\n",
    "71.93454545454546\n",
    "64.0\n",
    "48.0\n",
    "28.68052200365475\n",
    "822.5723424021243\"\"\"\n",
    "\n"
   ]
  }
 ],
 "metadata": {
  "kernelspec": {
   "display_name": "Python 3",
   "language": "python",
   "name": "python3"
  },
  "language_info": {
   "codemirror_mode": {
    "name": "ipython",
    "version": 3
   },
   "file_extension": ".py",
   "mimetype": "text/x-python",
   "name": "python",
   "nbconvert_exporter": "python",
   "pygments_lexer": "ipython3",
   "version": "3.8.5"
  }
 },
 "nbformat": 4,
 "nbformat_minor": 4
}
