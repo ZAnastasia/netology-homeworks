{
 "cells": [
  {
   "cell_type": "code",
   "execution_count": null,
   "metadata": {},
   "outputs": [],
   "source": [
    "№1"
   ]
  },
  {
   "cell_type": "code",
   "execution_count": 1,
   "metadata": {},
   "outputs": [],
   "source": [
    "import re"
   ]
  },
  {
   "cell_type": "code",
   "execution_count": 8,
   "metadata": {},
   "outputs": [
    {
     "name": "stdout",
     "output_type": "stream",
     "text": [
      "Введите номер транспортного средства: АВ222С96\n",
      "Номер АВ222С валиден. Регион: 96\n"
     ]
    }
   ],
   "source": [
    "def true_car_id(): \n",
    "    car_id = input('Введите номер транспортного средства: ')\n",
    "    result = re.search(r'(А|В|Е|К|М|Н|О|Р|С|Т|У|Х)(А|В|Е|К|М|Н|О|Р|С|Т|У|Х)\\d{3}(А|В|Е|К|М|Н|О|Р|С|Т|У|Х)\\d{2}', car_id) \n",
    "    region = re.findall(r'\\d{2}$', car_id)\n",
    "    number_car = re.search(r'(А|В|Е|К|М|Н|О|Р|С|Т|У|Х)(А|В|Е|К|М|Н|О|Р|С|Т|У|Х)\\d{3}(А|В|Е|К|М|Н|О|Р|С|Т|У|Х)', car_id)\n",
    "    print(f\"Номер {number_car.group()} валиден. Регион: {region[0]}\" if result else 'Номер не валиден') \n",
    "true_car_id()"
   ]
  },
  {
   "cell_type": "code",
   "execution_count": 9,
   "metadata": {},
   "outputs": [
    {
     "name": "stdout",
     "output_type": "stream",
     "text": [
      "Введите номер транспортного средства: АБ22ВВ193\n",
      "Номер не валиден\n"
     ]
    }
   ],
   "source": [
    "true_car_id()"
   ]
  },
  {
   "cell_type": "markdown",
   "metadata": {},
   "source": [
    "№2"
   ]
  },
  {
   "cell_type": "code",
   "execution_count": 34,
   "metadata": {},
   "outputs": [
    {
     "data": {
      "text/plain": [
       "'Напишите функцию, которая будет удалять все последовательные повторы слов из заданной строки при помощи регулярных выражений'"
      ]
     },
     "execution_count": 34,
     "metadata": {},
     "output_type": "execute_result"
    }
   ],
   "source": [
    "some_string = 'Напишите функцию функцию, которая будет будет будет будет удалять все все все все последовательные повторы слов из из из из заданной строки строки при помощи регулярных выражений'\n",
    "re.sub(r'\\b([^\\W\\d_]+)(\\s\\1)+\\b', r'\\1', some_string)"
   ]
  },
  {
   "cell_type": "markdown",
   "metadata": {},
   "source": [
    "№3"
   ]
  },
  {
   "cell_type": "code",
   "execution_count": 163,
   "metadata": {},
   "outputs": [
    {
     "name": "stdout",
     "output_type": "stream",
     "text": [
      "Введите фразу: Near Field Communication\n",
      "NFC\n"
     ]
    }
   ],
   "source": [
    "def acronym():\n",
    "    some_words = input('Введите фразу: ')\n",
    "    result_str =''\n",
    "    result = re.findall(r'\\b\\w', some_words)\n",
    "    for letter in result: \n",
    "        result_str +=letter.title()\n",
    "    print(result_str)\n",
    "acronym()"
   ]
  },
  {
   "cell_type": "code",
   "execution_count": 164,
   "metadata": {},
   "outputs": [
    {
     "name": "stdout",
     "output_type": "stream",
     "text": [
      "Введите фразу: Информационные технологии\n",
      "ИТ\n"
     ]
    }
   ],
   "source": [
    "acronym()"
   ]
  },
  {
   "cell_type": "markdown",
   "metadata": {},
   "source": [
    "№4"
   ]
  },
  {
   "cell_type": "code",
   "execution_count": 44,
   "metadata": {},
   "outputs": [
    {
     "name": "stdout",
     "output_type": "stream",
     "text": [
      "gmail.com: 2,test.in: 1,ya.ru: 2,mail.ru: 1\n"
     ]
    }
   ],
   "source": [
    "domain = re.findall(r'@(\\w+.\\w+)', 'test@gmail.com, xyz@test.in, test@ya.ru, xyz@mail.ru, xyz@ya.ru, xyz@gmail.com')\n",
    "domain_dic = {}\n",
    "for element in domain:\n",
    "    domain_dic[element] = domain.count(element)\n",
    "print(','.join('{}: {}'.format(key, value) for key, value in domain_dic.items()))"
   ]
  }
 ],
 "metadata": {
  "kernelspec": {
   "display_name": "Python 3",
   "language": "python",
   "name": "python3"
  },
  "language_info": {
   "codemirror_mode": {
    "name": "ipython",
    "version": 3
   },
   "file_extension": ".py",
   "mimetype": "text/x-python",
   "name": "python",
   "nbconvert_exporter": "python",
   "pygments_lexer": "ipython3",
   "version": "3.8.5"
  }
 },
 "nbformat": 4,
 "nbformat_minor": 4
}
