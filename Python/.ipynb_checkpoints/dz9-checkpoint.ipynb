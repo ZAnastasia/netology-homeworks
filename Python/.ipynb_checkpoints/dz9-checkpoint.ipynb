{
 "cells": [
  {
   "cell_type": "markdown",
   "metadata": {},
   "source": [
    "№1"
   ]
  },
  {
   "cell_type": "code",
   "execution_count": 2,
   "metadata": {},
   "outputs": [],
   "source": [
    "import numpy as np"
   ]
  },
  {
   "cell_type": "code",
   "execution_count": 22,
   "metadata": {},
   "outputs": [
    {
     "data": {
      "text/plain": [
       "array([9, 8, 7, 6, 5, 4, 3, 2, 1, 0])"
      ]
     },
     "execution_count": 22,
     "metadata": {},
     "output_type": "execute_result"
    }
   ],
   "source": [
    "N = 10\n",
    "array = np.arange(0, N)\n",
    "result_array = array[::-1]\n",
    "result_array"
   ]
  },
  {
   "cell_type": "markdown",
   "metadata": {},
   "source": [
    "№2"
   ]
  },
  {
   "cell_type": "code",
   "execution_count": 44,
   "metadata": {},
   "outputs": [
    {
     "data": {
      "text/plain": [
       "array([[60,  0,  0,  0,  0],\n",
       "       [ 0, 45,  0,  0,  0],\n",
       "       [ 0,  0, 30,  0,  0],\n",
       "       [ 0,  0,  0, 15,  0],\n",
       "       [ 0,  0,  0,  0,  0]])"
      ]
     },
     "execution_count": 44,
     "metadata": {},
     "output_type": "execute_result"
    }
   ],
   "source": [
    "n = 61\n",
    "r_array = np.diag((np.arange(0, n, 15))[::-1], k=0)\n",
    "r_array"
   ]
  },
  {
   "cell_type": "code",
   "execution_count": 45,
   "metadata": {},
   "outputs": [
    {
     "data": {
      "text/plain": [
       "150"
      ]
     },
     "execution_count": 45,
     "metadata": {},
     "output_type": "execute_result"
    }
   ],
   "source": [
    "diag_ = sum(np.diag(r_array))\n",
    "diag_"
   ]
  },
  {
   "cell_type": "markdown",
   "metadata": {},
   "source": [
    " №3"
   ]
  },
  {
   "cell_type": "code",
   "execution_count": 49,
   "metadata": {},
   "outputs": [
    {
     "data": {
      "text/plain": [
       "array([ 0.46666667,  3.84444444, -5.55555556])"
      ]
     },
     "execution_count": 49,
     "metadata": {},
     "output_type": "execute_result"
    }
   ],
   "source": [
    "#Решите систему уравнений: 4x + 2y + z = 4 x + 3y = 12 5y + 4z = -3 \n",
    "# коэффициенты при переменных в левой части уравнения\n",
    "a = np.array( [ [4, 2, 1], [1, 3, 0], [0, 5, 4] ] )  \n",
    "# значения в правой части уравнения\n",
    "b = np.array([4, 12, -3])\n",
    "# решение\n",
    "from numpy import linalg\n",
    "linalg.solve(a, b)"
   ]
  },
  {
   "cell_type": "code",
   "execution_count": 61,
   "metadata": {},
   "outputs": [
    {
     "data": {
      "text/plain": [
       "True"
      ]
     },
     "execution_count": 61,
     "metadata": {},
     "output_type": "execute_result"
    }
   ],
   "source": [
    "# проверка верности решения\n",
    "np.allclose( np.dot(a,[ 0.46666667,  3.84444444, -5.55555556]), b )"
   ]
  },
  {
   "cell_type": "markdown",
   "metadata": {},
   "source": [
    "№4"
   ]
  },
  {
   "cell_type": "code",
   "execution_count": 67,
   "metadata": {},
   "outputs": [],
   "source": [
    "import matplotlib.pyplot as plt"
   ]
  },
  {
   "cell_type": "code",
   "execution_count": 94,
   "metadata": {},
   "outputs": [
    {
     "data": {
      "text/plain": [
       "array([[2, 1, 0, 0, 0, 0],\n",
       "       [1, 1, 2, 1, 0, 0],\n",
       "       [2, 0, 1, 0, 0, 0],\n",
       "       [1, 1, 2, 1, 0, 1],\n",
       "       [0, 0, 1, 2, 0, 0],\n",
       "       [0, 0, 0, 0, 0, 5],\n",
       "       [1, 0, 0, 0, 0, 0],\n",
       "       [0, 1, 1, 0, 0, 0],\n",
       "       [0, 0, 0, 1, 1, 3],\n",
       "       [1, 0, 0, 2, 1, 4]], dtype=int32)"
      ]
     },
     "execution_count": 94,
     "metadata": {},
     "output_type": "execute_result"
    }
   ],
   "source": [
    "users_stats = np.array(\n",
    "    [\n",
    "        [2, 1, 0, 0, 0, 0],\n",
    "        [1, 1, 2, 1, 0, 0],\n",
    "        [2, 0, 1, 0, 0, 0],\n",
    "        [1, 1, 2, 1, 0, 1],\n",
    "        [0, 0, 1, 2, 0, 0],\n",
    "        [0, 0, 0, 0, 0, 5],\n",
    "        [1, 0, 0, 0, 0, 0],\n",
    "        [0, 1, 1, 0, 0, 0],\n",
    "        [0, 0, 0, 1, 1, 3],\n",
    "        [1, 0, 0, 2, 1, 4]\n",
    "    ], \n",
    "    np.int32\n",
    ")\n",
    "users_stats"
   ]
  },
  {
   "cell_type": "code",
   "execution_count": 91,
   "metadata": {},
   "outputs": [
    {
     "data": {
      "text/plain": [
       "array([0, 1, 2, 0, 0, 0], dtype=int32)"
      ]
     },
     "execution_count": 91,
     "metadata": {},
     "output_type": "execute_result"
    }
   ],
   "source": [
    "next_user_stats = np.array([0, 1, 2, 0, 0, 0], np.int32)\n",
    "next_user_stats"
   ]
  },
  {
   "cell_type": "code",
   "execution_count": 121,
   "metadata": {},
   "outputs": [
    {
     "data": {
      "text/plain": [
       "0.19999999999999996"
      ]
     },
     "execution_count": 121,
     "metadata": {},
     "output_type": "execute_result"
    }
   ],
   "source": [
    "def cosine( a, next_user_stats ):\n",
    "    \"\"\"\n",
    "    Подсчет косинуса угла между векторами по их координатам\n",
    "    \"\"\"\n",
    "    \n",
    "    # длины векторов\n",
    "    aLength = np.linalg.norm( a )\n",
    "    bLength = np.linalg.norm( next_user_stats )\n",
    "    \n",
    "    return np.dot( a, next_user_stats ) / ( aLength * bLength ) \n",
    "cosine(a, next_user_stats)"
   ]
  },
  {
   "cell_type": "code",
   "execution_count": 122,
   "metadata": {},
   "outputs": [
    {
     "name": "stdout",
     "output_type": "stream",
     "text": [
      "[0.19999999999999996, 0.8451542547285165, 0.3999999999999999, 0.7905694150420948, 0.3999999999999999, 0.0, 0.0, 0.9486832980505138, 0.0, 0.0]\n",
      "Для next_user_stats самый похожий пользовате пользователь User ID: 7\n"
     ]
    }
   ],
   "source": [
    "def cosine_likeness():\n",
    "    i=0\n",
    "    b = []\n",
    "    for line in users_stats:\n",
    "        a = users_stats[i]\n",
    "        b += [cosine(a, next_user_stats)]\n",
    "        i += 1\n",
    "    print(b)    \n",
    "    print('Для next_user_stats самый похожий пользовате пользователь User ID:', b.index(max(b),0))\n",
    "cosine_likeness()"
   ]
  }
 ],
 "metadata": {
  "kernelspec": {
   "display_name": "Python 3",
   "language": "python",
   "name": "python3"
  },
  "language_info": {
   "codemirror_mode": {
    "name": "ipython",
    "version": 3
   },
   "file_extension": ".py",
   "mimetype": "text/x-python",
   "name": "python",
   "nbconvert_exporter": "python",
   "pygments_lexer": "ipython3",
   "version": "3.8.5"
  }
 },
 "nbformat": 4,
 "nbformat_minor": 4
}
