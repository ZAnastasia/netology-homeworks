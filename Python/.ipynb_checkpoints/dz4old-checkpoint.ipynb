{
 "cells": [
  {
   "cell_type": "markdown",
   "metadata": {},
   "source": [
    "Задание 1"
   ]
  },
  {
   "cell_type": "markdown",
   "metadata": {},
   "source": [
    "Пункт 1"
   ]
  },
  {
   "cell_type": "code",
   "execution_count": 3,
   "metadata": {},
   "outputs": [],
   "source": [
    "#перечень всех документов\n",
    "documents = [\n",
    " {'type': 'passport', 'number': '2207 876234', 'name': 'Василий Гупкин'},\n",
    " {'type': 'invoice', 'number': '11-2', 'name': 'Геннадий Покемонов'},\n",
    " {'type': 'insurance', 'number': '10006', 'name': 'Аристарх Павлов'}\n",
    "]\n",
    "#перечень полок, на которых хранятся документы (если документ есть в documents, то он обязательно должен быть и в directories)\n",
    "directories = {\n",
    " '1': ['2207 876234', '11-2'],\n",
    " '2': ['10006'],\n",
    " '3': []\n",
    "}"
   ]
  },
  {
   "cell_type": "code",
   "execution_count": 12,
   "metadata": {},
   "outputs": [
    {
     "name": "stdout",
     "output_type": "stream",
     "text": [
      "Введите команду: p\n"
     ]
    },
    {
     "data": {
      "text/plain": [
       "True"
      ]
     },
     "execution_count": 12,
     "metadata": {},
     "output_type": "execute_result"
    }
   ],
   "source": [
    "def funk_is_correct():\n",
    "    \"\"\"\n",
    "    Проверка корректности введенной  информации для функции funk по следующим правилу:\n",
    "    1. Элемент принадлежит списку команд ['p','s','l','ads','ds']\n",
    "    \n",
    "    Возвращает True или False. Пример\n",
    "    funk_is_correct()\n",
    "    Введите команду: p\n",
    "    True\n",
    "    \n",
    "    funk_is_correct()\n",
    "    Введите команду: 123\n",
    "    False\n",
    "    \n",
    "    funk_is_correct()\n",
    "    Введите команду: a\n",
    "    False\n",
    "    \"\"\"\n",
    "    funk_list=['p','s','l','ads','ds']\n",
    "    inpf=input('Введите команду: ')\n",
    "    if inpf in funk_list:\n",
    "        return True\n",
    "    \n",
    "    return False\n",
    "\n",
    "funk_is_correct()"
   ]
  },
  {
   "cell_type": "code",
   "execution_count": 10,
   "metadata": {},
   "outputs": [
    {
     "name": "stdout",
     "output_type": "stream",
     "text": [
      "Введите номер документа: 11-2\n"
     ]
    },
    {
     "data": {
      "text/plain": [
       "True"
      ]
     },
     "execution_count": 10,
     "metadata": {},
     "output_type": "execute_result"
    }
   ],
   "source": [
    "def funk_number_is_correct():\n",
    "    \"\"\"\n",
    "    Проверка корректности проверка введенной информации для функции funk_number_is_correct по следующим правилу:\n",
    "    1. Элемент принадлежит 'number'\n",
    "    \n",
    "    Возвращает True или False. Пример\n",
    "    funk_number_is_correct()\n",
    "    Введите номер документа: 2207 876234\n",
    "    True\n",
    "    \n",
    "    funk_number_is_correct(121)\n",
    "    Введите номер документа: 121\n",
    "    False\n",
    "    \n",
    "    funk_number_is_correct(a)\n",
    "    Введите номер документа: a\n",
    "    False\n",
    "    \"\"\"\n",
    "    inpfn=input('Введите номер документа: ')\n",
    "    for a in documents:\n",
    "        for key, value in a.items():\n",
    "            if key == 'number':\n",
    "                if value == inpfn:\n",
    "                    return True\n",
    "    return False\n",
    "funk_number_is_correct()        "
   ]
  },
  {
   "cell_type": "code",
   "execution_count": 21,
   "metadata": {},
   "outputs": [
    {
     "ename": "IndexError",
     "evalue": "list index out of range",
     "output_type": "error",
     "traceback": [
      "\u001b[0;31m---------------------------------------------------------------------------\u001b[0m",
      "\u001b[0;31mIndexError\u001b[0m                                Traceback (most recent call last)",
      "\u001b[0;32m<ipython-input-21-4bd6b9a12a6d>\u001b[0m in \u001b[0;36m<module>\u001b[0;34m\u001b[0m\n\u001b[1;32m      2\u001b[0m \u001b[0;31m#i=0\u001b[0m\u001b[0;34m\u001b[0m\u001b[0;34m\u001b[0m\u001b[0;34m\u001b[0m\u001b[0m\n\u001b[1;32m      3\u001b[0m \u001b[0;32mfor\u001b[0m \u001b[0mansw\u001b[0m \u001b[0;32min\u001b[0m \u001b[0mdocuments\u001b[0m\u001b[0;34m:\u001b[0m\u001b[0;34m\u001b[0m\u001b[0;34m\u001b[0m\u001b[0m\n\u001b[0;32m----> 4\u001b[0;31m     \u001b[0;32mfor\u001b[0m \u001b[0mkey\u001b[0m\u001b[0;34m,\u001b[0m\u001b[0mvalue\u001b[0m \u001b[0;32min\u001b[0m \u001b[0mdocuments\u001b[0m\u001b[0;34m[\u001b[0m\u001b[0mi\u001b[0m\u001b[0;34m]\u001b[0m\u001b[0;34m.\u001b[0m\u001b[0mitems\u001b[0m\u001b[0;34m(\u001b[0m\u001b[0;34m)\u001b[0m\u001b[0;34m:\u001b[0m\u001b[0;34m\u001b[0m\u001b[0;34m\u001b[0m\u001b[0m\n\u001b[0m\u001b[1;32m      5\u001b[0m         \u001b[0;32mif\u001b[0m \u001b[0mkey\u001b[0m \u001b[0;34m==\u001b[0m \u001b[0;34m'name'\u001b[0m\u001b[0;34m:\u001b[0m\u001b[0;34m\u001b[0m\u001b[0;34m\u001b[0m\u001b[0m\n\u001b[1;32m      6\u001b[0m             \u001b[0mi\u001b[0m \u001b[0;34m+=\u001b[0m \u001b[0;36m1\u001b[0m\u001b[0;34m\u001b[0m\u001b[0;34m\u001b[0m\u001b[0m\n",
      "\u001b[0;31mIndexError\u001b[0m: list index out of range"
     ]
    }
   ],
   "source": [
    "#выводит имя\n",
    "#i=0\n",
    "for answ in documents:\n",
    "    for key,value in documents[i].items():\n",
    "        if key == 'name':\n",
    "            i += 1\n",
    "            print('Владелец документа:',value)\n",
    "        if i > 2:\n",
    "            break"
   ]
  },
  {
   "cell_type": "code",
   "execution_count": 53,
   "metadata": {},
   "outputs": [
    {
     "name": "stdout",
     "output_type": "stream",
     "text": [
      "Введите номер документа: 2207 876234\n",
      "2207 876234\n",
      "нет такого дока\n"
     ]
    }
   ],
   "source": [
    "inpfn=input('Введите номер документа: ')\n",
    "for a1 in documents:\n",
    "#    print (a1)\n",
    "    for key, value in a1.items():\n",
    "        if key == 'number':\n",
    "            if value == inpfn:\n",
    "                print(value)\n",
    "print('нет такого дока')\n",
    "#            print(value)\n",
    "#        print(key,value)"
   ]
  },
  {
   "cell_type": "code",
   "execution_count": 25,
   "metadata": {},
   "outputs": [
    {
     "name": "stdout",
     "output_type": "stream",
     "text": [
      "Введите номер документа: 11-2\n"
     ]
    },
    {
     "data": {
      "text/plain": [
       "1"
      ]
     },
     "execution_count": 25,
     "metadata": {},
     "output_type": "execute_result"
    }
   ],
   "source": [
    "def funk_number_count():\n",
    "    \"\"\"\n",
    "    Подсчет индекса вхождения:\n",
    "    1. Элемент принадлежит 'number'\n",
    "    \n",
    "    Возвращает True или False. Пример\n",
    "    funk_number_is_correct()\n",
    "    Введите номер документа: 2207 876234\n",
    "    True\n",
    "    \n",
    "    funk_number_is_correct(121)\n",
    "    Введите номер документа: 121\n",
    "    False\n",
    "    \n",
    "    funk_number_is_correct(a)\n",
    "    Введите номер документа: a\n",
    "    False\n",
    "    \"\"\"\n",
    "    inpfn=input('Введите номер документа: ')\n",
    "    i=0\n",
    "    for a in documents:\n",
    "        for key, value in a.items():\n",
    "            if key == 'number':\n",
    "                if value == inpfn:\n",
    "                    return i\n",
    "                else: i +=1\n",
    "    return 'Документ не найден в базе'\n",
    "funk_number_count() "
   ]
  },
  {
   "cell_type": "code",
   "execution_count": null,
   "metadata": {},
   "outputs": [
    {
     "name": "stdout",
     "output_type": "stream",
     "text": [
      "Введите команду: p\n",
      "Введите номер документа: 2207 876234\n",
      "Владелец документа: Василий Гупкин\n"
     ]
    }
   ],
   "source": [
    "#выводит имя\n",
    "#a=funk_number_count(i)\n",
    "while funk_is_correct() != False:\n",
    "    for key,value in documents[funk_number_count()].items():\n",
    "        if key == 'name':\n",
    "            print('Владелец документа:',value)\n",
    "print('финиш')"
   ]
  },
  {
   "cell_type": "code",
   "execution_count": 49,
   "metadata": {},
   "outputs": [
    {
     "name": "stdout",
     "output_type": "stream",
     "text": [
      "Введите номер документа: 1\n"
     ]
    },
    {
     "data": {
      "text/plain": [
       "'Документ не найден в базе'"
      ]
     },
     "execution_count": 49,
     "metadata": {},
     "output_type": "execute_result"
    }
   ],
   "source": [
    "def funk_number_cor_count():\n",
    "    \"\"\"\n",
    "    Подсчет индекса вхождения с проверкой принадлежности номеру документа 'number':\n",
    "    1. Элемент принадлежит 'number'\n",
    "    2. Считаем индекс этого элемента i\n",
    "    \n",
    "    Возвращает i или 'Документ не найден в базе'. Пример\n",
    "    funk_number_cor_count()\n",
    "    Введите номер документа: 2207 876234\n",
    "    0\n",
    "    \n",
    "    funk_number_cor_count(121)\n",
    "    Введите номер документа: 121\n",
    "    'Документ не найден в базе'\n",
    "    \n",
    "    funk_number_cor_count(a)\n",
    "    Введите номер документа: a\n",
    "    'Документ не найден в базе'\n",
    "    \"\"\"\n",
    "    inpfn=input('Введите номер документа: ')\n",
    "    i=0\n",
    "    for a in documents:\n",
    "        for key, value in a.items():\n",
    "            if key == 'number':\n",
    "                if value == inpfn:\n",
    "                    return i\n",
    "                else: i +=1\n",
    "    return 'Документ не найден в базе'\n",
    "funk_number_cor_count() "
   ]
  },
  {
   "cell_type": "code",
   "execution_count": null,
   "metadata": {},
   "outputs": [],
   "source": [
    "def funk_is_correct_action():\n",
    "    \"\"\"\n",
    "    Проверка корректности введенной  информации для функции funk по следующим правилу:\n",
    "    1. Элемент принадлежит списку команд ['p','s','l','ads','ds']\n",
    "    \n",
    "    Возвращает True или False. Пример\n",
    "    funk_is_correct()\n",
    "    Введите команду: p\n",
    "    True\n",
    "    \n",
    "    funk_is_correct()\n",
    "    Введите команду: 123\n",
    "    False\n",
    "    \n",
    "    funk_is_correct()\n",
    "    Введите команду: a\n",
    "    False\n",
    "    \"\"\"\n",
    "    funk_list=['p','s','l','ads','ds']\n",
    "    funk_list1=['q'] \n",
    "    inpf=input('Введите команду: ')\n",
    "    if inpf in funk_list:\n",
    "        return True\n",
    "    elif: inpf in funk_list1\n",
    "\n",
    "        return False\n",
    "    \n",
    "    return inpf\n",
    "\n",
    "funk_is_correct()"
   ]
  },
  {
   "cell_type": "code",
   "execution_count": null,
   "metadata": {},
   "outputs": [],
   "source": []
  }
 ],
 "metadata": {
  "kernelspec": {
   "display_name": "Python 3",
   "language": "python",
   "name": "python3"
  },
  "language_info": {
   "codemirror_mode": {
    "name": "ipython",
    "version": 3
   },
   "file_extension": ".py",
   "mimetype": "text/x-python",
   "name": "python",
   "nbconvert_exporter": "python",
   "pygments_lexer": "ipython3",
   "version": "3.8.5"
  }
 },
 "nbformat": 4,
 "nbformat_minor": 4
}
