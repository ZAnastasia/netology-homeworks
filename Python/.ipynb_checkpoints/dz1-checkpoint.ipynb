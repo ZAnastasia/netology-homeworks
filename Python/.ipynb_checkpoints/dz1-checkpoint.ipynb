{
 "cells": [
  {
   "cell_type": "markdown",
   "metadata": {},
   "source": [
    "№1"
   ]
  },
  {
   "cell_type": "code",
   "execution_count": null,
   "metadata": {},
   "outputs": [],
   "source": [
    "phrase_1 = input('Введите 1 фразу ')\n",
    "phrase_2 = input('Введите 2 фразу ')\n",
    "if len(phrase_1) > len(phrase_2):\n",
    "    print('Фраза 1 длиннее фразы 2') \n",
    "elif len(phrase_1) < len(phrase_2): \n",
    "    print('Фраза 2 длиннее фразы 1')\n",
    "elif len(phrase_1) == len(phrase_2):\n",
    "    print('Фразы равной длины')"
   ]
  },
  {
   "cell_type": "markdown",
   "metadata": {},
   "source": [
    "№2"
   ]
  },
  {
   "cell_type": "code",
   "execution_count": 6,
   "metadata": {},
   "outputs": [
    {
     "name": "stdout",
     "output_type": "stream",
     "text": [
      "Введите год: 1700\n",
      "Обычный год\n"
     ]
    }
   ],
   "source": [
    "year = int(input('Введите год: '))\n",
    "if year % 400 ==0:\n",
    "    print('Высокосный год')\n",
    "elif year % 100 ==0:\n",
    "    print('Обычный год')\n",
    "elif year % 4 ==0:\n",
    "    print('Высокосный год')\n",
    "else:\n",
    "    print('Обычный год')"
   ]
  },
  {
   "cell_type": "markdown",
   "metadata": {},
   "source": [
    "№3"
   ]
  },
  {
   "cell_type": "code",
   "execution_count": 16,
   "metadata": {},
   "outputs": [
    {
     "name": "stdout",
     "output_type": "stream",
     "text": [
      "Введите день 1\n",
      "Введите месяц Май\n",
      "Ваш знак зодиака: Телец\n"
     ]
    }
   ],
   "source": [
    "day = int(input('Введите день '))\n",
    "month = input('Введите месяц ')\n",
    "if (day >= 21 and day <= 31 and month == 'Март') or (month == 'Апрель' and day >= 1 and day <= 20):\n",
    "    print('Ваш знак зодиака: Овен')\n",
    "elif (day >= 21 and day <= 31 and month == 'Апрель') or (month == 'Май' and day >= 1 and day <= 20):\n",
    "    print('Ваш знак зодиака: Телец')\n",
    "elif (day >= 21 and day <= 31 and month == 'Май') or (month == 'Июнь' and day >= 1 and day <= 20):\n",
    "    print('Ваш знак зодиака: Близнец')\n",
    "elif (day >= 21 and day <= 31 and month == 'Июнь') or (month == 'Июль' and day >= 1 and day <= 20):\n",
    "    print('Ваш знак зодиака: Рак')\n",
    "elif (day >= 21 and day <= 31 and month == 'Июль') or (month == 'Август' and day >= 1 and day <= 20):\n",
    "    print('Ваш знак зодиака: Лев')\n",
    "elif (day >= 21 and day <= 31 and month == 'Август') or (month == 'Сентябрь' and day >= 1 and day <= 20):\n",
    "    print('Ваш знак зодиака: Дева')\n",
    "elif (day >= 21 and day <= 31 and month == 'Сентябрь') or (month == 'Октябрь' and day >= 1 and day <= 20):\n",
    "    print('Ваш знак зодиака: Весы')\n",
    "elif (day >= 21 and day <= 31 and month == 'Октябрь') or (month == 'Ноябрь' and day >= 1 and day <= 20):\n",
    "    print('Ваш знак зодиака: Скорпион')\n",
    "elif (day >= 21 and day <= 31 and month == 'Ноябрь') or (month == 'Декабрь' and day >= 1 and day <= 20):\n",
    "    print('Ваш знак зодиака: Стрелец')\n",
    "elif (day >= 21 and day <= 31 and month == 'Декабрь') or (month == 'Январь' and day >= 1 and day <= 20):\n",
    "    print('Ваш знак зодиака: Козерог') \n",
    "elif (day >= 21 and day <= 31 and month == 'Январь') or (month == 'Февраль' and day >= 1 and day <= 20):\n",
    "    print('Ваш знак зодиака: Водолей')\n",
    "elif (day >= 21 and day <= 31 and month == 'Февраль') or (month == 'Март' and day >= 1 and day <= 20):\n",
    "    print('Ваш знак зодиака: Рыбы')"
   ]
  },
  {
   "cell_type": "markdown",
   "metadata": {},
   "source": [
    "№4"
   ]
  },
  {
   "cell_type": "code",
   "execution_count": 8,
   "metadata": {},
   "outputs": [
    {
     "name": "stdout",
     "output_type": "stream",
     "text": [
      "Упаковка для лыж\n"
     ]
    }
   ],
   "source": [
    "width = 45\n",
    "length = 205\n",
    "height = 45\n",
    "if length>200:\n",
    "    print('Упаковка для лыж')\n",
    "elif (width < 15 and length < 15 and height < 15):\n",
    "    print('Коробка №1')\n",
    "elif (width > 15 and width < 50) or (length > 15 and length < 50) or (height > 15 and height < 50):\n",
    "    print('Коробка №2')\n",
    "else:\n",
    "    print('Стандартная коробка №3')"
   ]
  },
  {
   "cell_type": "code",
   "execution_count": null,
   "metadata": {},
   "outputs": [],
   "source": []
  }
 ],
 "metadata": {
  "kernelspec": {
   "display_name": "Python 3",
   "language": "python",
   "name": "python3"
  },
  "language_info": {
   "codemirror_mode": {
    "name": "ipython",
    "version": 3
   },
   "file_extension": ".py",
   "mimetype": "text/x-python",
   "name": "python",
   "nbconvert_exporter": "python",
   "pygments_lexer": "ipython3",
   "version": "3.8.5"
  }
 },
 "nbformat": 4,
 "nbformat_minor": 4
}
